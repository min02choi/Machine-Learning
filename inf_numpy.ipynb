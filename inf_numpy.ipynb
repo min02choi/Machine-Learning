{
  "nbformat": 4,
  "nbformat_minor": 0,
  "metadata": {
    "colab": {
      "provenance": [],
      "authorship_tag": "ABX9TyPVUoDB9xlfUixO9ajOeMgg",
      "include_colab_link": true
    },
    "kernelspec": {
      "name": "python3",
      "display_name": "Python 3"
    },
    "language_info": {
      "name": "python"
    }
  },
  "cells": [
    {
      "cell_type": "markdown",
      "metadata": {
        "id": "view-in-github",
        "colab_type": "text"
      },
      "source": [
        "<a href=\"https://colab.research.google.com/github/min02choi/Machine-Learning/blob/main/inf_numpy.ipynb\" target=\"_parent\"><img src=\"https://colab.research.google.com/assets/colab-badge.svg\" alt=\"Open In Colab\"/></a>"
      ]
    },
    {
      "cell_type": "code",
      "execution_count": null,
      "metadata": {
        "colab": {
          "base_uri": "https://localhost:8080/"
        },
        "id": "5o1U0sMC9_v-",
        "outputId": "e12fb968-593b-4d1f-db21-3bdf88996fc6"
      },
      "outputs": [
        {
          "output_type": "stream",
          "name": "stdout",
          "text": [
            "Looking in indexes: https://pypi.org/simple, https://us-python.pkg.dev/colab-wheels/public/simple/\n",
            "Requirement already satisfied: numpy in /usr/local/lib/python3.8/dist-packages (1.21.6)\n"
          ]
        }
      ],
      "source": [
        "!pip install numpy"
      ]
    },
    {
      "cell_type": "code",
      "source": [
        "import numpy as np"
      ],
      "metadata": {
        "id": "51l5qXcq-r3-"
      },
      "execution_count": null,
      "outputs": []
    },
    {
      "cell_type": "markdown",
      "source": [
        "## Section 1. N차원 배열 생성"
      ],
      "metadata": {
        "id": "IVGcYGlOUKbL"
      }
    },
    {
      "cell_type": "markdown",
      "source": [
        "### 1-1. N차원 배열(ndarray) 생성하기"
      ],
      "metadata": {
        "id": "_B-_Xj_PUcZz"
      }
    },
    {
      "cell_type": "code",
      "source": [
        "# 1차원 배열\n",
        "arr = np.array([1, 2, 3])\n",
        "print(arr)\n",
        "\n",
        "# 2차원 배열\n",
        "arr = np.array([[1, 2, 3], \n",
        "                [4, 5, 6]])\n",
        "print(arr)"
      ],
      "metadata": {
        "colab": {
          "base_uri": "https://localhost:8080/"
        },
        "id": "JhEWi9lPUZW4",
        "outputId": "3a3f7832-986a-4be9-ae80-d4264e309c69"
      },
      "execution_count": null,
      "outputs": [
        {
          "output_type": "stream",
          "name": "stdout",
          "text": [
            "[1 2 3]\n",
            "[[1 2 3]\n",
            " [4 5 6]]\n"
          ]
        }
      ]
    },
    {
      "cell_type": "code",
      "source": [
        "# list와 혼동하지 말것\n",
        "print(type([1, 2, 3]))  # 일반\n",
        "print(type(arr))        # 넘파이 array임\n",
        "# type(arr)"
      ],
      "metadata": {
        "colab": {
          "base_uri": "https://localhost:8080/"
        },
        "id": "D_pU7IDVVHZw",
        "outputId": "95d9726e-ecdf-4691-9bdb-32a47b91a41d"
      },
      "execution_count": null,
      "outputs": [
        {
          "output_type": "stream",
          "name": "stdout",
          "text": [
            "<class 'list'>\n",
            "<class 'numpy.ndarray'>\n"
          ]
        }
      ]
    },
    {
      "cell_type": "code",
      "source": [
        "# 튜플로 넘파이 array 만들기\n",
        "tpl = (4, 5, 6)\n",
        "arr = np.array(tpl)\n",
        "print(arr)\n",
        "\n",
        "# 리스트로 만들기\n",
        "lst = [1, 2, 3]\n",
        "arr = np.array(arr)\n",
        "print(arr)"
      ],
      "metadata": {
        "colab": {
          "base_uri": "https://localhost:8080/"
        },
        "id": "YlAmbZHNVX51",
        "outputId": "c99c218e-c28d-42ed-dbe6-2e4cb360898a"
      },
      "execution_count": null,
      "outputs": [
        {
          "output_type": "stream",
          "name": "stdout",
          "text": [
            "[4 5 6]\n",
            "[4 5 6]\n"
          ]
        }
      ]
    },
    {
      "cell_type": "code",
      "source": [
        "# shape -> 모양 확인\n",
        "arr1 = np.array([1, 2, 3])\n",
        "arr2 = np.array([[1, 2, 3],\n",
        "                 [4, 5, 6]])\n",
        "print(arr1.shape, arr2.shape)\n",
        "\n",
        "# ndim -> 차원 확인\n",
        "print(arr1.ndim, arr2.ndim)\n",
        "\n",
        "# size\n",
        "print(arr1.size, arr2.size)"
      ],
      "metadata": {
        "colab": {
          "base_uri": "https://localhost:8080/"
        },
        "id": "5lvr7vJDWErG",
        "outputId": "60a78ca3-5d48-4853-8cf2-e30c1fa8eb39"
      },
      "execution_count": null,
      "outputs": [
        {
          "output_type": "stream",
          "name": "stdout",
          "text": [
            "(3,) (2, 3)\n",
            "1 2\n",
            "3 6\n"
          ]
        }
      ]
    },
    {
      "cell_type": "markdown",
      "source": [
        "### 1-2.N차원 배열의 데이터 타입\n",
        "명시하지 않은 경우는 본인이 알아서 가장 적합한 데이터 타입으로 설정됨"
      ],
      "metadata": {
        "id": "xeCtpgz4W-7P"
      }
    },
    {
      "cell_type": "code",
      "source": [
        "arr = np.array([1, 2, 3])   # 자동으로 데이터 인식\n",
        "print(arr, arr.dtype)\n",
        "\n",
        "arr = np.array([1, 2, 3], dtype=np.float)   # 지정\n",
        "print(arr, arr.dtype)\n",
        "\n",
        "arr = np.array([1.1, 2.2, 3.3], dtype=np.int)   \n",
        "print(arr, arr.dtype)\n",
        "\n",
        "arr = np.array([1, 1, 0], dtype=np.bool)   # boolean, 1은 true, 0은 false\n",
        "print(arr, arr.dtype)\n",
        "\n",
        "# astype -> 자료형 변환\n",
        "arr = np.array([1, 2, 3, 4])  # 자료형: int64\n",
        "print(arr, arr.dtype)\n",
        "arr = arr.astype(np.float32)\n",
        "print(arr, arr.dtype)"
      ],
      "metadata": {
        "colab": {
          "base_uri": "https://localhost:8080/"
        },
        "id": "kya04gHxXJBK",
        "outputId": "fe267a33-4d7b-4b2a-ec22-1c643b24f3ed"
      },
      "execution_count": null,
      "outputs": [
        {
          "output_type": "stream",
          "name": "stdout",
          "text": [
            "[1 2 3] int64\n",
            "[1. 2. 3.] float64\n",
            "[1 2 3] int64\n",
            "[ True  True False] bool\n",
            "[1 2 3 4] int64\n",
            "[1. 2. 3. 4.] float32\n"
          ]
        },
        {
          "output_type": "stream",
          "name": "stderr",
          "text": [
            "<ipython-input-8-f298495bbe67>:4: DeprecationWarning: `np.float` is a deprecated alias for the builtin `float`. To silence this warning, use `float` by itself. Doing this will not modify any behavior and is safe. If you specifically wanted the numpy scalar type, use `np.float64` here.\n",
            "Deprecated in NumPy 1.20; for more details and guidance: https://numpy.org/devdocs/release/1.20.0-notes.html#deprecations\n",
            "  arr = np.array([1, 2, 3], dtype=np.float)   # 지정\n",
            "<ipython-input-8-f298495bbe67>:7: DeprecationWarning: `np.int` is a deprecated alias for the builtin `int`. To silence this warning, use `int` by itself. Doing this will not modify any behavior and is safe. When replacing `np.int`, you may wish to use e.g. `np.int64` or `np.int32` to specify the precision. If you wish to review your current use, check the release note link for additional information.\n",
            "Deprecated in NumPy 1.20; for more details and guidance: https://numpy.org/devdocs/release/1.20.0-notes.html#deprecations\n",
            "  arr = np.array([1.1, 2.2, 3.3], dtype=np.int)\n",
            "<ipython-input-8-f298495bbe67>:10: DeprecationWarning: `np.bool` is a deprecated alias for the builtin `bool`. To silence this warning, use `bool` by itself. Doing this will not modify any behavior and is safe. If you specifically wanted the numpy scalar type, use `np.bool_` here.\n",
            "Deprecated in NumPy 1.20; for more details and guidance: https://numpy.org/devdocs/release/1.20.0-notes.html#deprecations\n",
            "  arr = np.array([1, 1, 0], dtype=np.bool)   # boolean, 1은 true, 0은 false\n"
          ]
        }
      ]
    },
    {
      "cell_type": "markdown",
      "source": [
        "출력값의 숫자는 메모리에서 얼마나 차지하는지 알려줌"
      ],
      "metadata": {
        "id": "7EvfqwgNXo3L"
      }
    },
    {
      "cell_type": "code",
      "source": [
        "# 데이터 타입이 혼재하는 경우\n",
        "arr = np.array([1.1, 2.2, 3])   \n",
        "print(arr, arr.dtype)   # float형에 맞춰짐\n",
        "\n",
        "arr = np.array([1.1, 2.2, 3, \"131\"])   \n",
        "print(arr, arr.dtype)   # 문자형에 맞춰짐(유니코드)\n",
        "\n",
        "arr = np.array([1.1, 2.2, 3, \"131\"], dtype=int)   \n",
        "print(arr, arr.dtype)   # 정수형으로 변경\n",
        "\n",
        "# arr = np.array([1.1, 2.2, 3, \"hi\"], dtype=int)    # 오류 남  "
      ],
      "metadata": {
        "colab": {
          "base_uri": "https://localhost:8080/"
        },
        "id": "uZGfOmTlZSJY",
        "outputId": "9c5f9d0e-caec-433c-a48b-324e54e4f4c5"
      },
      "execution_count": null,
      "outputs": [
        {
          "output_type": "stream",
          "name": "stdout",
          "text": [
            "[1.1 2.2 3. ] float64\n",
            "['1.1' '2.2' '3' '131'] <U32\n",
            "[  1   2   3 131] int64\n"
          ]
        }
      ]
    },
    {
      "cell_type": "markdown",
      "source": [
        "\n",
        "파이썬 리스트와 넘파이 리스트와 다른 점\n",
        "* 파이썬 리스트: 다영한 데이터 타입 허용\n",
        "* 넘파이 리스트: 단일 데이터 타입만 허용"
      ],
      "metadata": {
        "id": "1K6F--c4ZV24"
      }
    },
    {
      "cell_type": "markdown",
      "source": [
        "### 1-3. 정해진 형식의 N차원 배열 생성하기"
      ],
      "metadata": {
        "id": "mP6hAqbIacZ_"
      }
    },
    {
      "cell_type": "code",
      "source": [
        "# np.zeros() -> 모든 원소가 0으로 된 배열 생성, 매개변수는 모양(shape)\n",
        "arr = np.zeros([2, 2])\n",
        "print(arr)\n",
        "\n",
        "# np.ones() -> 모든 원소가 1으로 된 배열 생성, 매개변수는 모양\n",
        "arr = np.ones([3, 5])\n",
        "print(arr)\n",
        "\n",
        "# np.full() -> 모든 원소가 n으로 된 배열 생성, 매개변수는 모양, n\n",
        "arr = np.full([3, 3], 7)\n",
        "print(arr)\n",
        "\n",
        "# np.eye() -> 행(m), 열(n)인 경우 m * n, 대각 원소가 1인 행렬 생성\n",
        "arr = np.eye(3, 4)\n",
        "print(arr)\n",
        "\n",
        "arr = np.eye(3, 4, k=1)   # k: 대각 원소 시작 지점 지정\n",
        "print(arr)"
      ],
      "metadata": {
        "colab": {
          "base_uri": "https://localhost:8080/"
        },
        "id": "pZ_DOV4oahyW",
        "outputId": "ec4415fc-e8dc-4c6d-d25f-6e01388f7459"
      },
      "execution_count": null,
      "outputs": [
        {
          "output_type": "stream",
          "name": "stdout",
          "text": [
            "[[0. 0.]\n",
            " [0. 0.]]\n",
            "[[1. 1. 1. 1. 1.]\n",
            " [1. 1. 1. 1. 1.]\n",
            " [1. 1. 1. 1. 1.]]\n",
            "[[7 7 7]\n",
            " [7 7 7]\n",
            " [7 7 7]]\n",
            "[[1. 0. 0. 0.]\n",
            " [0. 1. 0. 0.]\n",
            " [0. 0. 1. 0.]]\n",
            "[[0. 1. 0. 0.]\n",
            " [0. 0. 1. 0.]\n",
            " [0. 0. 0. 1.]]\n"
          ]
        }
      ]
    },
    {
      "cell_type": "code",
      "source": [
        "arr = np.array([[1, 2, 3], \n",
        "                [4, 5, 6]])\n",
        "\n",
        "# np.zeros_like() -> 원래의 배열과 동일한 shape을 가짐, 원소 모두 0인 행렬 만듦\n",
        "arr_z = np.zeros_like(arr)\n",
        "print(arr_z)\n",
        "\n",
        "# np.ones_like()\n",
        "arr_o = np.ones_like(arr)\n",
        "print(arr_o)\n",
        "\n",
        "# np.full_like()\n",
        "arr_f = np.full_like(arr, 9)    # 인자 하나 더 필요\n",
        "print(arr_f)"
      ],
      "metadata": {
        "colab": {
          "base_uri": "https://localhost:8080/"
        },
        "id": "8oO_4IeBcdum",
        "outputId": "829bd409-0252-4cf8-92bd-e6da86f55f34"
      },
      "execution_count": null,
      "outputs": [
        {
          "output_type": "stream",
          "name": "stdout",
          "text": [
            "[[0 0 0]\n",
            " [0 0 0]]\n",
            "[[1 1 1]\n",
            " [1 1 1]]\n",
            "[[9 9 9]\n",
            " [9 9 9]]\n"
          ]
        }
      ]
    },
    {
      "cell_type": "markdown",
      "source": [
        "### 1-4. 특정 범위의 값을 가지는 N차원 배열 생성하기"
      ],
      "metadata": {
        "id": "xK765TZRerQr"
      }
    },
    {
      "cell_type": "code",
      "source": [
        "lst = list(range(0, 9, 2))\n",
        "print(lst)"
      ],
      "metadata": {
        "colab": {
          "base_uri": "https://localhost:8080/"
        },
        "id": "GLyZ65p9e5_Q",
        "outputId": "6aedcf59-3183-47a2-e983-cd2cc53503d0"
      },
      "execution_count": null,
      "outputs": [
        {
          "output_type": "stream",
          "name": "stdout",
          "text": [
            "[0, 2, 4, 6, 8]\n"
          ]
        }
      ]
    },
    {
      "cell_type": "code",
      "source": [
        "# np.arange()\n",
        "arr = np.arange(9)\n",
        "print(arr)\n",
        "\n",
        "arr = np.arange(3, 13)\n",
        "print(arr)\n",
        "\n",
        "arr = np.arange(4, 13, 3)   # step 지정\n",
        "print(arr)\n",
        "\n",
        "arr = np.arange(stop=13, step=3, start=4)   # 위와 동일\n",
        "print(arr)"
      ],
      "metadata": {
        "colab": {
          "base_uri": "https://localhost:8080/"
        },
        "id": "GuhYIfkifCwX",
        "outputId": "286af1c7-0360-487a-d30f-88f1385914f3"
      },
      "execution_count": null,
      "outputs": [
        {
          "output_type": "stream",
          "name": "stdout",
          "text": [
            "[0 1 2 3 4 5 6 7 8]\n",
            "[ 3  4  5  6  7  8  9 10 11 12]\n",
            "[ 4  7 10]\n",
            "[ 4  7 10]\n"
          ]
        }
      ]
    },
    {
      "cell_type": "code",
      "source": [
        "# np.linspace()\n",
        "arr = np.linspace(0, 100, 12)   # 0부터 100까지 12개의 원소가 균등한 간격으로 출력\n",
        "print(arr)"
      ],
      "metadata": {
        "colab": {
          "base_uri": "https://localhost:8080/"
        },
        "id": "jPsvBedhfswz",
        "outputId": "93f3cc7c-d93a-4941-bf89-a898783eb675"
      },
      "execution_count": null,
      "outputs": [
        {
          "output_type": "stream",
          "name": "stdout",
          "text": [
            "[  0.           9.09090909  18.18181818  27.27272727  36.36363636\n",
            "  45.45454545  54.54545455  63.63636364  72.72727273  81.81818182\n",
            "  90.90909091 100.        ]\n"
          ]
        }
      ]
    },
    {
      "cell_type": "markdown",
      "source": [
        "np.arange(), np.linspace()의 차이점\n",
        "* arange의 stop: stop미만까지가 범위\n",
        "* linspace의 stop: stop를 포함한 범위"
      ],
      "metadata": {
        "id": "7Sd0ei-hgG_b"
      }
    },
    {
      "cell_type": "code",
      "source": [
        "# np.logspace() -> 밑이 base인 로그 스케일의 값\n",
        "arr = np.linspace(1, 10, 10)          # 비교를 위함\n",
        "print(arr, end=\"\\n\\n\")\n",
        "\n",
        "arr = np.logspace(1, 10, 10, base=2)  # 밑이 2인 로그 스케일\n",
        "print(arr)\n",
        "\n",
        "arr = np.logspace(1, 10, 10)          # base 지정 안할 시 상용로그 스케일\n",
        "print(arr)"
      ],
      "metadata": {
        "colab": {
          "base_uri": "https://localhost:8080/"
        },
        "id": "-CBAnGSgggSa",
        "outputId": "376f551f-04fb-4871-855b-cd79a910b45f"
      },
      "execution_count": null,
      "outputs": [
        {
          "output_type": "stream",
          "name": "stdout",
          "text": [
            "[ 1.  2.  3.  4.  5.  6.  7.  8.  9. 10.]\n",
            "\n",
            "[   2.    4.    8.   16.   32.   64.  128.  256.  512. 1024.]\n",
            "[1.e+01 1.e+02 1.e+03 1.e+04 1.e+05 1.e+06 1.e+07 1.e+08 1.e+09 1.e+10]\n"
          ]
        }
      ]
    },
    {
      "cell_type": "markdown",
      "source": [
        "### 1-5. 난수로 이루어진 N차원 배열 생성하기"
      ],
      "metadata": {
        "id": "nIjX0huGhh19"
      }
    },
    {
      "cell_type": "code",
      "source": [
        "import matplotlib.pyplot as plt     # 데이터 시각화"
      ],
      "metadata": {
        "id": "2hfEPTjuhqdn"
      },
      "execution_count": null,
      "outputs": []
    },
    {
      "cell_type": "code",
      "source": [
        "# np.random.normal() -> 정규 분포의 확률 밀도에서 표본 추출\n",
        "\n",
        "arr = np.random.normal(0, 1, 10)\n",
        "print(arr)"
      ],
      "metadata": {
        "colab": {
          "base_uri": "https://localhost:8080/"
        },
        "id": "as7x_5OLiJ-5",
        "outputId": "de28da97-6c83-44e5-a09d-415ab28dff03"
      },
      "execution_count": null,
      "outputs": [
        {
          "output_type": "stream",
          "name": "stdout",
          "text": [
            "[ 0.23453487  0.12615443 -0.65358062  0.88332397 -0.60548454 -0.15240155\n",
            " -0.91394963  0.33995246 -1.3292278  -0.53026712]\n"
          ]
        }
      ]
    },
    {
      "cell_type": "markdown",
      "source": [
        "np.random.normal(loc, scale, size)\n",
        "* loc: 정규분포의 평균\n",
        "* scale: 표준편차\n",
        "* size: 추출할 표본의 개수(행렬 가능)"
      ],
      "metadata": {
        "id": "R_nFC0zkiuzP"
      }
    },
    {
      "cell_type": "code",
      "source": [
        "arr = np.random.normal(0, 1, 1000)\n",
        "plt.hist(arr, bins=100)     # 히스토그램 함수, bins: 몇 개의 구간?\n",
        "plt.show()"
      ],
      "metadata": {
        "colab": {
          "base_uri": "https://localhost:8080/",
          "height": 54
        },
        "id": "UPyTxY3fjOg7",
        "outputId": "a91e8441-4d50-4c76-b815-d8ddd517579c"
      },
      "execution_count": null,
      "outputs": [
        {
          "output_type": "display_data",
          "data": {
            "text/plain": [
              "<Figure size 432x288 with 1 Axes>"
            ],
            "image/png": "[encoded data removed]"
          },
          "metadata": {
            "needs_background": "light"
          }
        }
      ]
    },
    {
      "cell_type": "code",
      "source": [
        "# np.random.rand() -> 0~1 숫자를 균등한 비율로 추출\n",
        "arr = np.random.rand(1000)    # 인자: 표본의 개수\n",
        "plt.hist(arr, bins=100)\n",
        "plt.show()"
      ],
      "metadata": {
        "colab": {
          "base_uri": "https://localhost:8080/",
          "height": 54
        },
        "id": "D_okC3IhjlHt",
        "outputId": "957dcedf-e4b4-48d0-fd3d-47a6aa429e72"
      },
      "execution_count": null,
      "outputs": [
        {
          "output_type": "display_data",
          "data": {
            "text/plain": [
              "<Figure size 432x288 with 1 Axes>"
            ],
            "image/png": "[encoded data removed]"
          },
          "metadata": {
            "needs_background": "light"
          }
        }
      ]
    },
    {
      "cell_type": "code",
      "source": [
        "# np.random.randn() -> -1~1의 범위를 정규분포로 출력, 즉 가오시안 분포의 표본 추출\n",
        "arr = np.random.randn(1000)\n",
        "plt.hist(arr, bins=100)\n",
        "plt.show()"
      ],
      "metadata": {
        "colab": {
          "base_uri": "https://localhost:8080/",
          "height": 54
        },
        "id": "ac3JCR5lkJd5",
        "outputId": "67666cde-0a57-4728-e710-e131cb383553"
      },
      "execution_count": null,
      "outputs": [
        {
          "output_type": "display_data",
          "data": {
            "text/plain": [
              "<Figure size 432x288 with 1 Axes>"
            ],
            "image/png": "[encoded data removed]"
          },
          "metadata": {
            "needs_background": "light"
          }
        }
      ]
    },
    {
      "cell_type": "code",
      "source": [
        "# np.random.randint() -> 랜덤한 정수 추출\n",
        "arr = np.random.randint(low=1, high=5, size=10)   # 1부터 5 미만의 정수, 개수 10개\n",
        "print(arr)\n",
        "plt.hist(arr)\n",
        "plt.show()"
      ],
      "metadata": {
        "colab": {
          "base_uri": "https://localhost:8080/",
          "height": 71
        },
        "id": "9GEZsWKpkg13",
        "outputId": "5532c6ba-1bca-4d51-81e6-67b7aa1c0594"
      },
      "execution_count": null,
      "outputs": [
        {
          "output_type": "stream",
          "name": "stdout",
          "text": [
            "[4 1 2 2 2 1 4 3 1 2]\n"
          ]
        },
        {
          "output_type": "display_data",
          "data": {
            "text/plain": [
              "<Figure size 432x288 with 1 Axes>"
            ],
            "image/png": "[encoded data removed]"
          },
          "metadata": {
            "needs_background": "light"
          }
        }
      ]
    },
    {
      "cell_type": "markdown",
      "source": [
        "### 1-6. 시드(seed)값을 통한 난수 생성 제어"
      ],
      "metadata": {
        "id": "BAYgwWBkm1y6"
      }
    },
    {
      "cell_type": "code",
      "source": [
        "arr = np.random.rand(10)\n",
        "print(\"random num1: \", arr)\n",
        "\n",
        "arr = np.random.rand(10)\n",
        "print(\"random num2: \", arr)"
      ],
      "metadata": {
        "colab": {
          "base_uri": "https://localhost:8080/"
        },
        "id": "2YAhd3NanAJX",
        "outputId": "fc334b03-3429-4033-8b16-67873ffc162f"
      },
      "execution_count": null,
      "outputs": [
        {
          "output_type": "stream",
          "name": "stdout",
          "text": [
            "random num1:  [0.8087124  0.62649024 0.35239243 0.90937932 0.93507479 0.2035752\n",
            " 0.60513724 0.41494807 0.697169   0.06945007]\n",
            "random num2:  [0.6341597  0.50125728 0.6615073  0.04296328 0.94247671 0.58542424\n",
            " 0.71588084 0.20217005 0.10559386 0.01602704]\n"
          ]
        }
      ]
    },
    {
      "cell_type": "code",
      "source": [
        "# 난수 발생 시드 고정\n",
        "np.random.seed(1)\n",
        "arr = np.random.rand(10)\n",
        "print(\"random num1: \", arr)\n",
        "\n",
        "np.random.seed(1)\n",
        "arr = np.random.rand(10)\n",
        "print(\"random num2: \", arr)"
      ],
      "metadata": {
        "colab": {
          "base_uri": "https://localhost:8080/"
        },
        "id": "YLPT-Roww1pG",
        "outputId": "d08ed046-eab6-4d8d-d9f9-78897104a498"
      },
      "execution_count": null,
      "outputs": [
        {
          "output_type": "stream",
          "name": "stdout",
          "text": [
            "random num1:  [4.17022005e-01 7.20324493e-01 1.14374817e-04 3.02332573e-01\n",
            " 1.46755891e-01 9.23385948e-02 1.86260211e-01 3.45560727e-01\n",
            " 3.96767474e-01 5.38816734e-01]\n",
            "random num2:  [4.17022005e-01 7.20324493e-01 1.14374817e-04 3.02332573e-01\n",
            " 1.46755891e-01 9.23385948e-02 1.86260211e-01 3.45560727e-01\n",
            " 3.96767474e-01 5.38816734e-01]\n"
          ]
        }
      ]
    },
    {
      "cell_type": "markdown",
      "source": [
        "## Section 2. N차원 배열 인덱싱"
      ],
      "metadata": {
        "id": "9uV7lTwipSqp"
      }
    },
    {
      "cell_type": "markdown",
      "source": [
        "### 2-1. 배열의 index 접근하기"
      ],
      "metadata": {
        "id": "V-5gNVynpfMF"
      }
    },
    {
      "cell_type": "code",
      "source": [
        "# 1차원 배열\n",
        "arr = np.array([0, 1, 2, 3, 4, 5, 6, 7, 8, 9])\n",
        "print(arr[1])\n",
        "print(arr[-1])\n",
        "print(arr[3:8])\n",
        "print(arr[:-1])"
      ],
      "metadata": {
        "colab": {
          "base_uri": "https://localhost:8080/"
        },
        "id": "e-0ghLeqpYLb",
        "outputId": "738ce812-3e2a-42c9-f408-851c9feea564"
      },
      "execution_count": null,
      "outputs": [
        {
          "output_type": "stream",
          "name": "stdout",
          "text": [
            "1\n",
            "9\n",
            "[3 4 5 6 7]\n",
            "[0 1 2 3 4 5 6 7 8]\n"
          ]
        }
      ]
    },
    {
      "cell_type": "code",
      "source": [
        "# 2차원 배열\n",
        "arr = np.array([[1, 2, 3, 4], \n",
        "                [5, 6, 7, 8], \n",
        "                [9, 10, 11, 12]])\n",
        "print(arr[0, :])    # 0번째 행의 모든 값(:)을 출력\n",
        "print(arr[:, 1])    # 모든 행(:)의 1번째 열을 출력\n",
        "print(arr[:2, 2:])"
      ],
      "metadata": {
        "colab": {
          "base_uri": "https://localhost:8080/"
        },
        "id": "0bHNveRnvcsq",
        "outputId": "88b150fc-b9f5-4048-fb9d-1e0f84154c92"
      },
      "execution_count": null,
      "outputs": [
        {
          "output_type": "stream",
          "name": "stdout",
          "text": [
            "[1 2 3 4]\n",
            "[ 2  6 10]\n",
            "[[3 4]\n",
            " [7 8]]\n"
          ]
        }
      ]
    },
    {
      "cell_type": "markdown",
      "source": [
        "### 2-2. 배열의 Fancy 인덱싱\n",
        "특정 인덱스를 여러개 선택을 해서 탐색하는 방법"
      ],
      "metadata": {
        "id": "D4x3i3bG2Erx"
      }
    },
    {
      "cell_type": "code",
      "source": [
        "# 1차원 배열\n",
        "arr = np.array([5, 10, 15, 20, 25, 30])\n",
        "print(arr[[0, 2, 4]])   # 0, 2, 4번째 원소를 가져와라"
      ],
      "metadata": {
        "colab": {
          "base_uri": "https://localhost:8080/"
        },
        "id": "v_lMcDng4oj3",
        "outputId": "c31c6d97-39ce-45d1-a83a-18b21056478d"
      },
      "execution_count": null,
      "outputs": [
        {
          "output_type": "stream",
          "name": "stdout",
          "text": [
            "[ 5 15 25]\n"
          ]
        }
      ]
    },
    {
      "cell_type": "code",
      "source": [
        "arr = np.array([[5, 10, 15, 20], \n",
        "                [25, 30, 35, 40], \n",
        "                [45, 50, 55, 60]])\n",
        "print(arr[[0, 2], 2:])    # 0, 2행에 대해서 2열부터 끝까지 선택\n",
        "print(arr[1:, [2, 3]])"
      ],
      "metadata": {
        "colab": {
          "base_uri": "https://localhost:8080/"
        },
        "id": "nu-VABYz5Tnb",
        "outputId": "5bf56bd9-d336-4819-80dd-7792a4792ef2"
      },
      "execution_count": null,
      "outputs": [
        {
          "output_type": "stream",
          "name": "stdout",
          "text": [
            "[[15 20]\n",
            " [55 60]]\n",
            "[[35 40]\n",
            " [55 60]]\n"
          ]
        }
      ]
    },
    {
      "cell_type": "markdown",
      "source": [
        "### 2-3. Boolean 인덱싱\n",
        "True에 해당하는 값을 가져오고, False는 가져오지 않음"
      ],
      "metadata": {
        "id": "Oy3yOqP8G1pO"
      }
    },
    {
      "cell_type": "code",
      "source": [
        "arr = np.array([1, 2, 3, 4])\n",
        "print(arr[[True, False, True, False]])\n",
        "\n",
        "arr = np.array([[1, 2, 3, 4], \n",
        "                [5, 6, 7, 8]])\n",
        "print(arr[[True, False], True])"
      ],
      "metadata": {
        "colab": {
          "base_uri": "https://localhost:8080/"
        },
        "id": "6GkFcBMWG60k",
        "outputId": "af169e64-71a4-4dc3-90bc-33d391c86167"
      },
      "execution_count": null,
      "outputs": [
        {
          "output_type": "stream",
          "name": "stdout",
          "text": [
            "[1 3]\n",
            "[[1 2 3 4]]\n"
          ]
        }
      ]
    },
    {
      "cell_type": "code",
      "source": [
        "arr = np.array([[1, 2, 3, 4], \n",
        "                [5, 6, 7, 8]])\n",
        "print(arr[arr > 3])   # 3초과의 값을 가져옴"
      ],
      "metadata": {
        "colab": {
          "base_uri": "https://localhost:8080/"
        },
        "id": "EkudXB-BHmae",
        "outputId": "7a8f5f06-b9d3-4c98-ec7d-996897fb06ba"
      },
      "execution_count": null,
      "outputs": [
        {
          "output_type": "stream",
          "name": "stdout",
          "text": [
            "[4 5 6 7 8]\n"
          ]
        }
      ]
    },
    {
      "cell_type": "markdown",
      "source": [
        "## Section 3. N차원 배열 연산법"
      ],
      "metadata": {
        "id": "E3Aj6QjRQ_1I"
      }
    },
    {
      "cell_type": "markdown",
      "source": [
        "### 3-1. 배열의 연산1: 사칙연산/제곱/제곱근/몫/나머지\n",
        "배열의 연산을 하려면 shape가 같아야 함\n"
      ],
      "metadata": {
        "id": "I5CkT_1KRZ2g"
      }
    },
    {
      "cell_type": "code",
      "source": [
        "arr1 = np.array([[1, 2, 3], \n",
        "                 [4, 5, 6], \n",
        "                 [7, 8, 9]])\n",
        "arr2 = np.array([[2, 2, 2], \n",
        "                 [2, 2, 2], \n",
        "                 [2, 2, 2]])\n",
        "\n",
        "print(arr1)\n",
        "print(arr2)"
      ],
      "metadata": {
        "colab": {
          "base_uri": "https://localhost:8080/"
        },
        "id": "9M0qIm5RRHXR",
        "outputId": "3238d239-0175-40e3-de9f-5a0646e98e9a"
      },
      "execution_count": null,
      "outputs": [
        {
          "output_type": "stream",
          "name": "stdout",
          "text": [
            "[[1 2 3]\n",
            " [4 5 6]\n",
            " [7 8 9]]\n",
            "[[2 2 2]\n",
            " [2 2 2]\n",
            " [2 2 2]]\n"
          ]
        }
      ]
    },
    {
      "cell_type": "code",
      "source": [
        "# 사칙연산\n",
        "print(arr1 + arr2)\n",
        "print(np.add(arr1, arr2))   # np 모듈 이용\n",
        "\n",
        "print(arr1 - arr2)\n",
        "print(np.subtract(arr1, arr2))\n",
        "\n",
        "print(arr1 * arr2)        # 원소끼리의 곱\n",
        "print(np.multiply(arr1, arr2))\n",
        "\n",
        "print(arr1 / arr2)\n",
        "print(np.divide(arr1, arr2))"
      ],
      "metadata": {
        "colab": {
          "base_uri": "https://localhost:8080/"
        },
        "id": "g4tGCYTGSJQV",
        "outputId": "5a0220ed-29da-4ebc-e1e1-94614c68702c"
      },
      "execution_count": null,
      "outputs": [
        {
          "output_type": "stream",
          "name": "stdout",
          "text": [
            "[[ 3  4  5]\n",
            " [ 6  7  8]\n",
            " [ 9 10 11]]\n",
            "[[ 3  4  5]\n",
            " [ 6  7  8]\n",
            " [ 9 10 11]]\n",
            "[[-1  0  1]\n",
            " [ 2  3  4]\n",
            " [ 5  6  7]]\n",
            "[[-1  0  1]\n",
            " [ 2  3  4]\n",
            " [ 5  6  7]]\n",
            "[[ 2  4  6]\n",
            " [ 8 10 12]\n",
            " [14 16 18]]\n",
            "[[ 2  4  6]\n",
            " [ 8 10 12]\n",
            " [14 16 18]]\n",
            "[[0.5 1.  1.5]\n",
            " [2.  2.5 3. ]\n",
            " [3.5 4.  4.5]]\n",
            "[[0.5 1.  1.5]\n",
            " [2.  2.5 3. ]\n",
            " [3.5 4.  4.5]]\n"
          ]
        }
      ]
    },
    {
      "cell_type": "code",
      "source": [
        "# 제곱\n",
        "print(arr1 ** 3)\n",
        "print(np.square(arr1))\n",
        "\n",
        "# 제곱근\n",
        "print(np.sqrt(arr1))"
      ],
      "metadata": {
        "colab": {
          "base_uri": "https://localhost:8080/"
        },
        "id": "6wACer23UGaA",
        "outputId": "892db037-3ddf-474c-d49a-8253cbc16d0f"
      },
      "execution_count": null,
      "outputs": [
        {
          "output_type": "stream",
          "name": "stdout",
          "text": [
            "[[  1   8  27]\n",
            " [ 64 125 216]\n",
            " [343 512 729]]\n",
            "[[ 1  4  9]\n",
            " [16 25 36]\n",
            " [49 64 81]]\n",
            "[[1.         1.41421356 1.73205081]\n",
            " [2.         2.23606798 2.44948974]\n",
            " [2.64575131 2.82842712 3.        ]]\n"
          ]
        }
      ]
    },
    {
      "cell_type": "code",
      "source": [
        "# 몫\n",
        "print(arr1 // 2)\n",
        "\n",
        "# 나머지\n",
        "print(arr1 % 2)"
      ],
      "metadata": {
        "colab": {
          "base_uri": "https://localhost:8080/"
        },
        "id": "SbjUeQwMUgCQ",
        "outputId": "6dbcb81a-20cc-4924-aa6b-33c083f8bee8"
      },
      "execution_count": null,
      "outputs": [
        {
          "output_type": "stream",
          "name": "stdout",
          "text": [
            "[[0 1 1]\n",
            " [2 2 3]\n",
            " [3 4 4]]\n",
            "[[1 0 1]\n",
            " [0 1 0]\n",
            " [1 0 1]]\n"
          ]
        }
      ]
    },
    {
      "cell_type": "markdown",
      "source": [
        "### 3-2. 배열의 연산2: 내적(dot product)/절댓값/올림/내림/반올림/버림"
      ],
      "metadata": {
        "id": "c6rMrohJU2fu"
      }
    },
    {
      "cell_type": "code",
      "source": [
        "# 1차원 행렬\n",
        "arr1 = np.array([2, 3, 4])\n",
        "arr2 = np.array([1, 2, 3])\n",
        "\n",
        "print(np.dot(arr1, arr2))   # 동일한 인덱스 위치의 원소를 곱하고 그 합을 반환"
      ],
      "metadata": {
        "colab": {
          "base_uri": "https://localhost:8080/"
        },
        "id": "q-vwdNwJVGCZ",
        "outputId": "854f8b6b-8688-4000-a88a-a15c443e29a5"
      },
      "execution_count": null,
      "outputs": [
        {
          "output_type": "stream",
          "name": "stdout",
          "text": [
            "20\n"
          ]
        }
      ]
    },
    {
      "cell_type": "code",
      "source": [
        "# 2차원 행렬\n",
        "arr1 = np.array([[1, 2], \n",
        "                 [4, 5]])\n",
        "arr2 = np.array([[1, 2], \n",
        "                 [0, 3]])\n",
        "\n",
        "print(np.dot(arr1, arr2))   # 행렬의 곱"
      ],
      "metadata": {
        "colab": {
          "base_uri": "https://localhost:8080/"
        },
        "id": "YwSoGC9fXcg7",
        "outputId": "3e1c8990-976f-4044-e423-914adf4506cc"
      },
      "execution_count": null,
      "outputs": [
        {
          "output_type": "stream",
          "name": "stdout",
          "text": [
            "[[ 1  8]\n",
            " [ 4 23]]\n"
          ]
        }
      ]
    },
    {
      "cell_type": "code",
      "source": [
        "# 절댓값\n",
        "arr1 = np.array([[1, -2], \n",
        "                 [-4, 5]])\n",
        "\n",
        "print(np.abs(arr1))"
      ],
      "metadata": {
        "colab": {
          "base_uri": "https://localhost:8080/"
        },
        "id": "IbyQuWN0X_Fu",
        "outputId": "70d76fea-77ed-4b96-cea0-7ca0f9f22e3f"
      },
      "execution_count": null,
      "outputs": [
        {
          "output_type": "stream",
          "name": "stdout",
          "text": [
            "[[1 2]\n",
            " [4 5]]\n"
          ]
        }
      ]
    },
    {
      "cell_type": "code",
      "source": [
        "arr1 = np.array([[1.9, -2.33], \n",
        "                 [-4.234, 5.42332]])\n",
        "\n",
        "print(np.ceil(arr1))    # 올림\n",
        "print(np.floor(arr1))   # 내림\n",
        "print(np.round(arr1))   # 반올림\n",
        "print(np.trunc(arr1))   # 버림"
      ],
      "metadata": {
        "colab": {
          "base_uri": "https://localhost:8080/"
        },
        "id": "sprJn9DWYHnn",
        "outputId": "cc698cab-666f-4405-92dc-521f9c1c0335"
      },
      "execution_count": null,
      "outputs": [
        {
          "output_type": "stream",
          "name": "stdout",
          "text": [
            "[[ 2. -2.]\n",
            " [-4.  6.]]\n",
            "[[ 1. -3.]\n",
            " [-5.  5.]]\n",
            "[[ 2. -2.]\n",
            " [-4.  5.]]\n",
            "[[ 1. -2.]\n",
            " [-4.  5.]]\n"
          ]
        }
      ]
    }
  ]
}