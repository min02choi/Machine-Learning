{
  "nbformat": 4,
  "nbformat_minor": 0,
  "metadata": {
    "colab": {
      "provenance": [],
      "authorship_tag": "ABX9TyPBYDbrqu3xa74P6aRdN9HW",
      "include_colab_link": true
    },
    "kernelspec": {
      "name": "python3",
      "display_name": "Python 3"
    },
    "language_info": {
      "name": "python"
    }
  },
  "cells": [
    {
      "cell_type": "markdown",
      "metadata": {
        "id": "view-in-github",
        "colab_type": "text"
      },
      "source": [
        "<a href=\"https://colab.research.google.com/github/min02choi/Machine-Learning/blob/main/inf_numpy.ipynb\" target=\"_parent\"><img src=\"https://colab.research.google.com/assets/colab-badge.svg\" alt=\"Open In Colab\"/></a>"
      ]
    },
    {
      "cell_type": "code",
      "execution_count": null,
      "metadata": {
        "colab": {
          "base_uri": "https://localhost:8080/"
        },
        "id": "5o1U0sMC9_v-",
        "outputId": "b64626e2-579e-44e0-c825-280dc83b7b27"
      },
      "outputs": [
        {
          "output_type": "stream",
          "name": "stdout",
          "text": [
            "Looking in indexes: https://pypi.org/simple, https://us-python.pkg.dev/colab-wheels/public/simple/\n",
            "Requirement already satisfied: numpy in /usr/local/lib/python3.8/dist-packages (1.21.6)\n"
          ]
        }
      ],
      "source": [
        "!pip install numpy"
      ]
    },
    {
      "cell_type": "code",
      "source": [
        "import numpy as np"
      ],
      "metadata": {
        "id": "51l5qXcq-r3-"
      },
      "execution_count": null,
      "outputs": []
    },
    {
      "cell_type": "markdown",
      "source": [
        "## Section 1. N차원 배열 생성"
      ],
      "metadata": {
        "id": "IVGcYGlOUKbL"
      }
    },
    {
      "cell_type": "markdown",
      "source": [
        "### 1-1. N차원 배열(ndarray) 생성하기"
      ],
      "metadata": {
        "id": "_B-_Xj_PUcZz"
      }
    },
    {
      "cell_type": "code",
      "source": [
        "# 1차원 배열\n",
        "arr = np.array([1, 2, 3])\n",
        "print(arr)\n",
        "\n",
        "# 2차원 배열\n",
        "arr = np.array([[1, 2, 3], \n",
        "                [4, 5, 6]])\n",
        "print(arr)"
      ],
      "metadata": {
        "colab": {
          "base_uri": "https://localhost:8080/"
        },
        "id": "JhEWi9lPUZW4",
        "outputId": "e01f6663-8563-4408-c8ee-466395c5db37"
      },
      "execution_count": 38,
      "outputs": [
        {
          "output_type": "stream",
          "name": "stdout",
          "text": [
            "[1 2 3]\n",
            "[[1 2 3]\n",
            " [4 5 6]]\n"
          ]
        }
      ]
    },
    {
      "cell_type": "code",
      "source": [
        "# list와 혼동하지 말것\n",
        "print(type([1, 2, 3]))  # 일반\n",
        "print(type(arr))        # 넘파이 array임\n",
        "# type(arr)"
      ],
      "metadata": {
        "colab": {
          "base_uri": "https://localhost:8080/"
        },
        "id": "D_pU7IDVVHZw",
        "outputId": "6b83043d-06e6-4590-a981-53225bd4ce03"
      },
      "execution_count": 8,
      "outputs": [
        {
          "output_type": "stream",
          "name": "stdout",
          "text": [
            "<class 'list'>\n",
            "<class 'numpy.ndarray'>\n"
          ]
        },
        {
          "output_type": "execute_result",
          "data": {
            "text/plain": [
              "numpy.ndarray"
            ]
          },
          "metadata": {},
          "execution_count": 8
        }
      ]
    },
    {
      "cell_type": "code",
      "source": [
        "# 튜플로 넘파이 array 만들기\n",
        "tpl = (4, 5, 6)\n",
        "arr = np.array(tpl)\n",
        "print(arr)\n",
        "\n",
        "# 리스트로 만들기\n",
        "lst = [1, 2, 3]\n",
        "arr = np.array(arr)\n",
        "print(arr)"
      ],
      "metadata": {
        "colab": {
          "base_uri": "https://localhost:8080/"
        },
        "id": "YlAmbZHNVX51",
        "outputId": "a3e91223-d523-4dfc-dab4-d537621a2485"
      },
      "execution_count": 11,
      "outputs": [
        {
          "output_type": "stream",
          "name": "stdout",
          "text": [
            "[4 5 6]\n",
            "[4 5 6]\n"
          ]
        }
      ]
    },
    {
      "cell_type": "code",
      "source": [
        "# shape -> 모양 확인\n",
        "arr1 = np.array([1, 2, 3])\n",
        "arr2 = np.array([[1, 2, 3],\n",
        "                 [4, 5, 6]])\n",
        "print(arr1.shape, arr2.shape)\n",
        "\n",
        "# ndim -> 차원 확인\n",
        "print(arr1.ndim, arr2.ndim)\n",
        "\n",
        "# size\n",
        "print(arr1.size, arr2.size)"
      ],
      "metadata": {
        "colab": {
          "base_uri": "https://localhost:8080/"
        },
        "id": "5lvr7vJDWErG",
        "outputId": "d23ad358-7439-48d7-c209-1f708ebaff13"
      },
      "execution_count": 34,
      "outputs": [
        {
          "output_type": "stream",
          "name": "stdout",
          "text": [
            "(3,) (2, 3)\n",
            "1 2\n",
            "3 6\n"
          ]
        }
      ]
    },
    {
      "cell_type": "markdown",
      "source": [
        "### 1-2.N차원 배열의 데이터 타입\n",
        "명시하지 않은 경우는 본인이 알아서 가장 적합한 데이터 타입으로 설정됨"
      ],
      "metadata": {
        "id": "xeCtpgz4W-7P"
      }
    },
    {
      "cell_type": "code",
      "source": [
        "arr = np.array([1, 2, 3])   # 자동으로 데이터 인식\n",
        "print(arr, arr.dtype)\n",
        "\n",
        "arr = np.array([1, 2, 3], dtype=np.float)   # 지정\n",
        "print(arr, arr.dtype)\n",
        "\n",
        "arr = np.array([1.1, 2.2, 3.3], dtype=np.int)   \n",
        "print(arr, arr.dtype)\n",
        "\n",
        "arr = np.array([1, 1, 0], dtype=np.bool)   # boolean, 1은 true, 0은 false\n",
        "print(arr, arr.dtype)\n",
        "\n",
        "# astype -> 자료형 변환\n",
        "arr = np.array([1, 2, 3, 4])  # 자료형: int64\n",
        "print(arr, arr.dtype)\n",
        "arr = arr.astype(np.float32)\n",
        "print(arr, arr.dtype)"
      ],
      "metadata": {
        "colab": {
          "base_uri": "https://localhost:8080/"
        },
        "id": "kya04gHxXJBK",
        "outputId": "4644adc7-1a79-4d13-be4b-98cd1b3d7a91"
      },
      "execution_count": 35,
      "outputs": [
        {
          "output_type": "stream",
          "name": "stdout",
          "text": [
            "[1 2 3] int64\n",
            "[1. 2. 3.] float64\n",
            "[1 2 3] int64\n",
            "[ True  True False] bool\n",
            "[1 2 3 4] int64\n",
            "[1. 2. 3. 4.] float32\n"
          ]
        },
        {
          "output_type": "stream",
          "name": "stderr",
          "text": [
            "<ipython-input-35-f298495bbe67>:4: DeprecationWarning: `np.float` is a deprecated alias for the builtin `float`. To silence this warning, use `float` by itself. Doing this will not modify any behavior and is safe. If you specifically wanted the numpy scalar type, use `np.float64` here.\n",
            "Deprecated in NumPy 1.20; for more details and guidance: https://numpy.org/devdocs/release/1.20.0-notes.html#deprecations\n",
            "  arr = np.array([1, 2, 3], dtype=np.float)   # 지정\n",
            "<ipython-input-35-f298495bbe67>:7: DeprecationWarning: `np.int` is a deprecated alias for the builtin `int`. To silence this warning, use `int` by itself. Doing this will not modify any behavior and is safe. When replacing `np.int`, you may wish to use e.g. `np.int64` or `np.int32` to specify the precision. If you wish to review your current use, check the release note link for additional information.\n",
            "Deprecated in NumPy 1.20; for more details and guidance: https://numpy.org/devdocs/release/1.20.0-notes.html#deprecations\n",
            "  arr = np.array([1.1, 2.2, 3.3], dtype=np.int)\n",
            "<ipython-input-35-f298495bbe67>:10: DeprecationWarning: `np.bool` is a deprecated alias for the builtin `bool`. To silence this warning, use `bool` by itself. Doing this will not modify any behavior and is safe. If you specifically wanted the numpy scalar type, use `np.bool_` here.\n",
            "Deprecated in NumPy 1.20; for more details and guidance: https://numpy.org/devdocs/release/1.20.0-notes.html#deprecations\n",
            "  arr = np.array([1, 1, 0], dtype=np.bool)   # boolean, 1은 true, 0은 false\n"
          ]
        }
      ]
    },
    {
      "cell_type": "markdown",
      "source": [
        "출력값의 숫자는 메모리에서 얼마나 차지하는지 알려줌"
      ],
      "metadata": {
        "id": "7EvfqwgNXo3L"
      }
    },
    {
      "cell_type": "code",
      "source": [
        "# 데이터 타입이 혼재하는 경우\n",
        "arr = np.array([1.1, 2.2, 3])   \n",
        "print(arr, arr.dtype)   # float형에 맞춰짐\n",
        "\n",
        "arr = np.array([1.1, 2.2, 3, \"131\"])   \n",
        "print(arr, arr.dtype)   # 문자형에 맞춰짐(유니코드)\n",
        "\n",
        "arr = np.array([1.1, 2.2, 3, \"131\"], dtype=int)   \n",
        "print(arr, arr.dtype)   # 정수형으로 변경\n",
        "\n",
        "# arr = np.array([1.1, 2.2, 3, \"hi\"], dtype=int)    # 오류 남  "
      ],
      "metadata": {
        "colab": {
          "base_uri": "https://localhost:8080/"
        },
        "id": "uZGfOmTlZSJY",
        "outputId": "0b4516a4-0047-45cc-b184-10de17e7d2d8"
      },
      "execution_count": 26,
      "outputs": [
        {
          "output_type": "stream",
          "name": "stdout",
          "text": [
            "[1.1 2.2 3. ] float64\n",
            "['1.1' '2.2' '3' '131'] <U32\n",
            "[  1   2   3 131] int64\n"
          ]
        }
      ]
    },
    {
      "cell_type": "markdown",
      "source": [
        "\n",
        "파이썬 리스트와 넘파이 리스트와 다른 점\n",
        "* 파이썬 리스트: 다영한 데이터 타입 허용\n",
        "* 넘파이 리스트: 단일 데이터 타입만 허용"
      ],
      "metadata": {
        "id": "1K6F--c4ZV24"
      }
    },
    {
      "cell_type": "markdown",
      "source": [
        "### 1-3. 정해진 형식의 N차원 배열 생성하기"
      ],
      "metadata": {
        "id": "mP6hAqbIacZ_"
      }
    },
    {
      "cell_type": "code",
      "source": [
        "# np.zeros() -> 모든 원소가 0으로 된 배열 생성, 매개변수는 모양(shape)\n",
        "arr = np.zeros([2, 2])\n",
        "print(arr)\n",
        "\n",
        "# np.ones() -> 모든 원소가 1으로 된 배열 생성, 매개변수는 모양\n",
        "arr = np.ones([3, 5])\n",
        "print(arr)\n",
        "\n",
        "# np.full() -> 모든 원소가 n으로 된 배열 생성, 매개변수는 모양, n\n",
        "arr = np.full([3, 3], 7)\n",
        "print(arr)\n",
        "\n",
        "# np.eye() -> 행(m), 열(n)인 경우 m * n, 대각 원소가 1인 행렬 생성\n",
        "arr = np.eye(3, 4)\n",
        "print(arr)\n",
        "\n",
        "arr = np.eye(3, 4, k=1)   # k: 대각 원소 시작 지점 지정\n",
        "print(arr)"
      ],
      "metadata": {
        "colab": {
          "base_uri": "https://localhost:8080/"
        },
        "id": "pZ_DOV4oahyW",
        "outputId": "5f56981d-38fa-4b1e-cabc-3bfdc874458a"
      },
      "execution_count": 39,
      "outputs": [
        {
          "output_type": "stream",
          "name": "stdout",
          "text": [
            "[[0. 0.]\n",
            " [0. 0.]]\n",
            "[[1. 1. 1. 1. 1.]\n",
            " [1. 1. 1. 1. 1.]\n",
            " [1. 1. 1. 1. 1.]]\n",
            "[[7 7 7]\n",
            " [7 7 7]\n",
            " [7 7 7]]\n",
            "[[1. 0. 0. 0.]\n",
            " [0. 1. 0. 0.]\n",
            " [0. 0. 1. 0.]]\n",
            "[[0. 1. 0. 0.]\n",
            " [0. 0. 1. 0.]\n",
            " [0. 0. 0. 1.]]\n"
          ]
        }
      ]
    },
    {
      "cell_type": "code",
      "source": [
        "arr = np.array([[1, 2, 3], \n",
        "                [4, 5, 6]])\n",
        "\n",
        "# np.zeros_like() -> 원래의 배열과 동일한 shape을 가짐, 원소 모두 0인 행렬 만듦\n",
        "arr_z = np.zeros_like(arr)\n",
        "print(arr_z)\n",
        "\n",
        "# np.ones_like()\n",
        "arr_o = np.ones_like(arr)\n",
        "print(arr_o)\n",
        "\n",
        "# np.full_like()\n",
        "arr_f = np.full_like(arr, 9)    # 인자 하나 더 필요\n",
        "print(arr_f)"
      ],
      "metadata": {
        "colab": {
          "base_uri": "https://localhost:8080/"
        },
        "id": "8oO_4IeBcdum",
        "outputId": "78ef2d46-0e0f-4413-aae9-3e0d42ea279a"
      },
      "execution_count": 42,
      "outputs": [
        {
          "output_type": "stream",
          "name": "stdout",
          "text": [
            "[[0 0 0]\n",
            " [0 0 0]]\n",
            "[[1 1 1]\n",
            " [1 1 1]]\n",
            "[[9 9 9]\n",
            " [9 9 9]]\n"
          ]
        }
      ]
    },
    {
      "cell_type": "markdown",
      "source": [
        "### 1-4. 특정 범위의 값을 가지는 N차원 배열 생성하기"
      ],
      "metadata": {
        "id": "xK765TZRerQr"
      }
    },
    {
      "cell_type": "code",
      "source": [
        "lst = list(range(0, 9, 2))\n",
        "print(lst)"
      ],
      "metadata": {
        "colab": {
          "base_uri": "https://localhost:8080/"
        },
        "id": "GLyZ65p9e5_Q",
        "outputId": "a4d6c542-fb0e-4cf1-eb9f-715d68db8362"
      },
      "execution_count": 43,
      "outputs": [
        {
          "output_type": "stream",
          "name": "stdout",
          "text": [
            "[0, 2, 4, 6, 8]\n"
          ]
        }
      ]
    },
    {
      "cell_type": "code",
      "source": [
        "# np.arange()\n",
        "arr = np.arange(9)\n",
        "print(arr)\n",
        "\n",
        "arr = np.arange(3, 13)\n",
        "print(arr)\n",
        "\n",
        "arr = np.arange(4, 13, 3)   # step 지정\n",
        "print(arr)\n",
        "\n",
        "arr = np.arange(stop=13, step=3, start=4)   # 위와 동일\n",
        "print(arr)"
      ],
      "metadata": {
        "colab": {
          "base_uri": "https://localhost:8080/"
        },
        "id": "GuhYIfkifCwX",
        "outputId": "73c795be-068d-4873-daa2-38c688dab06e"
      },
      "execution_count": 48,
      "outputs": [
        {
          "output_type": "stream",
          "name": "stdout",
          "text": [
            "[0 1 2 3 4 5 6 7 8]\n",
            "[ 3  4  5  6  7  8  9 10 11 12]\n",
            "[ 4  7 10]\n",
            "[ 4  7 10]\n"
          ]
        }
      ]
    },
    {
      "cell_type": "code",
      "source": [
        "# np.linspace()\n",
        "arr = np.linspace(0, 100, 12)   # 0부터 100까지 12개의 원소가 균등한 간격으로 출력\n",
        "print(arr)"
      ],
      "metadata": {
        "colab": {
          "base_uri": "https://localhost:8080/"
        },
        "id": "jPsvBedhfswz",
        "outputId": "2dc9780c-87e7-48fa-8a75-788a0d550afc"
      },
      "execution_count": 51,
      "outputs": [
        {
          "output_type": "stream",
          "name": "stdout",
          "text": [
            "[  0.           9.09090909  18.18181818  27.27272727  36.36363636\n",
            "  45.45454545  54.54545455  63.63636364  72.72727273  81.81818182\n",
            "  90.90909091 100.        ]\n"
          ]
        }
      ]
    },
    {
      "cell_type": "markdown",
      "source": [
        "np.arange(), np.linspace()의 차이점\n",
        "* arange의 stop: stop미만까지가 범위\n",
        "* linspace의 stop: stop를 포함한 범위"
      ],
      "metadata": {
        "id": "7Sd0ei-hgG_b"
      }
    },
    {
      "cell_type": "code",
      "source": [
        "# np.logspace() -> 밑이 base인 로그 스케일의 값\n",
        "arr = np.linspace(1, 10, 10)          # 비교를 위함\n",
        "print(arr, end=\"\\n\\n\")\n",
        "\n",
        "arr = np.logspace(1, 10, 10, base=2)  # 밑이 2인 로그 스케일\n",
        "print(arr)\n",
        "\n",
        "arr = np.logspace(1, 10, 10)          # base 지정 안할 시 상용로그 스케일\n",
        "print(arr)"
      ],
      "metadata": {
        "colab": {
          "base_uri": "https://localhost:8080/"
        },
        "id": "-CBAnGSgggSa",
        "outputId": "b9d76ef2-701f-41f6-c4f7-c3db3a8fd480"
      },
      "execution_count": 53,
      "outputs": [
        {
          "output_type": "stream",
          "name": "stdout",
          "text": [
            "[ 1.  2.  3.  4.  5.  6.  7.  8.  9. 10.]\n",
            "\n",
            "[   2.    4.    8.   16.   32.   64.  128.  256.  512. 1024.]\n",
            "[1.e+01 1.e+02 1.e+03 1.e+04 1.e+05 1.e+06 1.e+07 1.e+08 1.e+09 1.e+10]\n"
          ]
        }
      ]
    },
    {
      "cell_type": "markdown",
      "source": [
        "### 1-5. 난수로 이루어진 N차원 배열 생성하기"
      ],
      "metadata": {
        "id": "nIjX0huGhh19"
      }
    },
    {
      "cell_type": "code",
      "source": [
        "import matplotlib.pyplot as plt     # 데이터 시각화"
      ],
      "metadata": {
        "id": "2hfEPTjuhqdn"
      },
      "execution_count": 54,
      "outputs": []
    },
    {
      "cell_type": "code",
      "source": [
        "# np.random.normal() -> 정규 분포의 확률 밀도에서 표본 추출\n",
        "\n",
        "arr = np.random.normal(0, 1, 10)\n",
        "print(arr)"
      ],
      "metadata": {
        "colab": {
          "base_uri": "https://localhost:8080/"
        },
        "id": "as7x_5OLiJ-5",
        "outputId": "2b5cedbf-6067-4ebf-ffbe-ca50de2fceda"
      },
      "execution_count": 55,
      "outputs": [
        {
          "output_type": "stream",
          "name": "stdout",
          "text": [
            "[-0.47871956  0.14187408  0.36617745  1.1818876  -2.21031502 -0.67098118\n",
            " -0.04755729 -0.35490503 -0.92366926  0.10020037]\n"
          ]
        }
      ]
    },
    {
      "cell_type": "markdown",
      "source": [
        "np.random.normal(loc, scale, size)\n",
        "* loc: 정규분포의 평균\n",
        "* scale: 표준편차\n",
        "* size: 추출할 표본의 개수(행렬 가능)"
      ],
      "metadata": {
        "id": "R_nFC0zkiuzP"
      }
    },
    {
      "cell_type": "code",
      "source": [
        "arr = np.random.normal(0, 1, 1000)\n",
        "plt.hist(arr, bins=100)     # 히스토그램 함수, bins: 몇 개의 구간?\n",
        "plt.show()"
      ],
      "metadata": {
        "colab": {
          "base_uri": "https://localhost:8080/",
          "height": 265
        },
        "id": "UPyTxY3fjOg7",
        "outputId": "745b749c-d5df-4faa-8694-4e8577ef1cc0"
      },
      "execution_count": 57,
      "outputs": [
        {
          "output_type": "display_data",
          "data": {
            "text/plain": [
              "<Figure size 432x288 with 1 Axes>"
            ],
            "image/png": "[encoded data removed]"
          },
          "metadata": {
            "needs_background": "light"
          }
        }
      ]
    },
    {
      "cell_type": "code",
      "source": [
        "# np.random.rand() -> 0~1 숫자를 균등한 비율로 추출\n",
        "arr = np.random.rand(1000)    # 인자: 표본의 개수\n",
        "plt.hist(arr, bins=100)\n",
        "plt.show()"
      ],
      "metadata": {
        "colab": {
          "base_uri": "https://localhost:8080/",
          "height": 265
        },
        "id": "D_okC3IhjlHt",
        "outputId": "483c21ce-88c2-4e65-8957-66f7a8871e66"
      },
      "execution_count": 64,
      "outputs": [
        {
          "output_type": "display_data",
          "data": {
            "text/plain": [
              "<Figure size 432x288 with 1 Axes>"
            ],
            "image/png": "[encoded data removed]"
          },
          "metadata": {
            "needs_background": "light"
          }
        }
      ]
    },
    {
      "cell_type": "code",
      "source": [
        "# np.random.randn() -> -1~1의 범위를 정규분포로 출력, 즉 가오시안 분포의 표본 추출\n",
        "arr = np.random.randn(1000)\n",
        "plt.hist(arr, bins=100)\n",
        "plt.show()"
      ],
      "metadata": {
        "colab": {
          "base_uri": "https://localhost:8080/",
          "height": 265
        },
        "id": "ac3JCR5lkJd5",
        "outputId": "53d07e5a-4757-4cd5-dfa8-8c16562dffe2"
      },
      "execution_count": 65,
      "outputs": [
        {
          "output_type": "display_data",
          "data": {
            "text/plain": [
              "<Figure size 432x288 with 1 Axes>"
            ],
            "image/png": "[encoded data removed]"
          },
          "metadata": {
            "needs_background": "light"
          }
        }
      ]
    },
    {
      "cell_type": "code",
      "source": [
        "# np.random.randint() -> 랜덤한 정수 추출\n",
        "arr = np.random.randint(low=1, high=5, size=10)   # 1부터 5 미만의 정수, 개수 10개\n",
        "print(arr)\n",
        "plt.hist(arr)\n",
        "plt.show()"
      ],
      "metadata": {
        "colab": {
          "base_uri": "https://localhost:8080/",
          "height": 282
        },
        "id": "9GEZsWKpkg13",
        "outputId": "3f1d1f84-56c7-49fd-d1e1-ec6efdfd0919"
      },
      "execution_count": 70,
      "outputs": [
        {
          "output_type": "stream",
          "name": "stdout",
          "text": [
            "[4 4 3 1 2 4 2 1 2 2]\n"
          ]
        },
        {
          "output_type": "display_data",
          "data": {
            "text/plain": [
              "<Figure size 432x288 with 1 Axes>"
            ],
            "image/png": "[encoded data removed]"
          },
          "metadata": {
            "needs_background": "light"
          }
        }
      ]
    },
    {
      "cell_type": "markdown",
      "source": [
        "### 1-6. 시드(seed)값을 통한 난수 생성 제어"
      ],
      "metadata": {
        "id": "BAYgwWBkm1y6"
      }
    },
    {
      "cell_type": "code",
      "source": [
        "arr = np.random.rand(10)\n",
        "print(\"random num1: \", arr)\n",
        "\n",
        "arr = np.random.rand(10)\n",
        "print(\"random num2: \", arr)"
      ],
      "metadata": {
        "colab": {
          "base_uri": "https://localhost:8080/"
        },
        "id": "2YAhd3NanAJX",
        "outputId": "c9de4ecb-8f55-492d-9435-a004e9205992"
      },
      "execution_count": 74,
      "outputs": [
        {
          "output_type": "stream",
          "name": "stdout",
          "text": [
            "random num1:  [0.41919451 0.6852195  0.20445225 0.87811744 0.02738759 0.67046751\n",
            " 0.4173048  0.55868983 0.14038694 0.19810149]\n",
            "random num2:  [0.80074457 0.96826158 0.31342418 0.69232262 0.87638915 0.89460666\n",
            " 0.08504421 0.03905478 0.16983042 0.8781425 ]\n"
          ]
        }
      ]
    },
    {
      "cell_type": "code",
      "source": [
        "# 난수 발생 시드 고정\n",
        "np.random.seed(1)\n",
        "arr = np.random.rand(10)\n",
        "print(\"random num1: \", arr)\n",
        "\n",
        "np.random.seed(1)\n",
        "arr = np.random.rand(10)\n",
        "print(\"random num2: \", arr)"
      ],
      "metadata": {
        "colab": {
          "base_uri": "https://localhost:8080/"
        },
        "id": "YLPT-Roww1pG",
        "outputId": "6b6cb0de-d29d-44e2-f0be-f7201cd12b7d"
      },
      "execution_count": 75,
      "outputs": [
        {
          "output_type": "stream",
          "name": "stdout",
          "text": [
            "random num1:  [4.17022005e-01 7.20324493e-01 1.14374817e-04 3.02332573e-01\n",
            " 1.46755891e-01 9.23385948e-02 1.86260211e-01 3.45560727e-01\n",
            " 3.96767474e-01 5.38816734e-01]\n",
            "random num2:  [4.17022005e-01 7.20324493e-01 1.14374817e-04 3.02332573e-01\n",
            " 1.46755891e-01 9.23385948e-02 1.86260211e-01 3.45560727e-01\n",
            " 3.96767474e-01 5.38816734e-01]\n"
          ]
        }
      ]
    }
  ]
}