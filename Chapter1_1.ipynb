{
  "nbformat": 4,
  "nbformat_minor": 0,
  "metadata": {
    "colab": {
      "provenance": [],
      "authorship_tag": "ABX9TyNdwOGYkYsb/0Xsem0JTDfG",
      "include_colab_link": true
    },
    "kernelspec": {
      "name": "python3",
      "display_name": "Python 3"
    },
    "language_info": {
      "name": "python"
    }
  },
  "cells": [
    {
      "cell_type": "markdown",
      "metadata": {
        "id": "view-in-github",
        "colab_type": "text"
      },
      "source": [
        "<a href=\"https://colab.research.google.com/github/min02choi/Machine-Learning/blob/main/Chapter1_1.ipynb\" target=\"_parent\"><img src=\"https://colab.research.google.com/assets/colab-badge.svg\" alt=\"Open In Colab\"/></a>"
      ]
    },
    {
      "cell_type": "markdown",
      "source": [
        "mnist, keras, nn"
      ],
      "metadata": {
        "id": "OXNqV6jiqnHE"
      }
    },
    {
      "cell_type": "markdown",
      "source": [
        "## 텐서플로 2.0 시작하기: 초보자용\n",
        "두잇!딥러닝 Ch1실습 01 (p.89)\n"
      ],
      "metadata": {
        "id": "MZ9mSV6HorvS"
      }
    },
    {
      "cell_type": "markdown",
      "source": [
        "## TensorFlow 설정하기"
      ],
      "metadata": {
        "id": "jEZz1m6upv0D"
      }
    },
    {
      "cell_type": "code",
      "execution_count": 20,
      "metadata": {
        "id": "aCE_rTAMm5FS",
        "colab": {
          "base_uri": "https://localhost:8080/"
        },
        "outputId": "f4265816-2729-4939-bc66-db9b4dbf01e5"
      },
      "outputs": [
        {
          "output_type": "stream",
          "name": "stdout",
          "text": [
            "TensorFlow version:  2.9.2\n"
          ]
        }
      ],
      "source": [
        "import tensorflow as tf\n",
        "print(\"TensorFlow version: \", tf.__version__)"
      ]
    },
    {
      "cell_type": "markdown",
      "source": [
        "## Dataset 로드하기\n",
        "MNIST 데이터세트 로드"
      ],
      "metadata": {
        "id": "87Wb_Cf5qQfa"
      }
    },
    {
      "cell_type": "code",
      "source": [
        "mnist = tf.keras.datasets.mnist\n",
        "\n",
        "(x_train, y_train), (x_test, y_test) = mnist.load_data()\n",
        "x_train, x_test = x_train / 255.0, x_test / 255.0         # 샘플 데이터를 정수에서 부동 소숫점 숫자로 변환"
      ],
      "metadata": {
        "colab": {
          "base_uri": "https://localhost:8080/"
        },
        "id": "VUh9d0lgqUmI",
        "outputId": "5fd55eb0-b643-4427-f2ce-5453ded58910"
      },
      "execution_count": 3,
      "outputs": [
        {
          "output_type": "stream",
          "name": "stdout",
          "text": [
            "Downloading data from https://storage.googleapis.com/tensorflow/tf-keras-datasets/mnist.npz\n",
            "11490434/11490434 [==============================] - 0s 0us/step\n"
          ]
        }
      ]
    },
    {
      "cell_type": "markdown",
      "source": [
        "## 머신러닝 모델 빌드하기\n",
        "층을 차례대로 쌓아 tf.keras.Sequential 모델을 만듦"
      ],
      "metadata": {
        "id": "54o03HZPsKQR"
      }
    },
    {
      "cell_type": "code",
      "source": [
        "# 모델 생성\n",
        "model = tf.keras.models.Sequential([                # keras의 기본 모델 구조(층을 차례대로 쌓음)\n",
        "    tf.keras.layers.Flatten(input_shape=(28, 28)),\n",
        "    tf.keras.layers.Dense(128, activation=\"relu\"),  # 68개의 유닛을 가진 층을 추가\n",
        "    tf.keras.layers.Dropout(0.2),\n",
        "    tf.keras.layers.Dense(10, activation=\"softmax\") # 10개의 출력유닛을 가진 소프트맥스 층 추가\n",
        "])"
      ],
      "metadata": {
        "id": "8InWyYLFsV2B"
      },
      "execution_count": 4,
      "outputs": []
    },
    {
      "cell_type": "markdown",
      "source": [
        "* activation: 층의 활성화 함수 설정"
      ],
      "metadata": {
        "id": "1N19tRSnwgRZ"
      }
    },
    {
      "cell_type": "code",
      "source": [
        "# 컴파일 메서드 -> 학습 과정 설정\n",
        "model.compile(optimizer=\"adam\", \n",
        "              loss=\"sparse_categorical_crossentropy\", \n",
        "              metrics=[\"accuracy\"])"
      ],
      "metadata": {
        "id": "3hH4kOdexKyQ"
      },
      "execution_count": 5,
      "outputs": []
    },
    {
      "cell_type": "markdown",
      "source": [
        ".compile(세개의 핵심 매개변수 + a)\n",
        "* optimizer: 훈련 과정 설정\n",
        "* loss: 최적화 과정에서 최소화될 손실 함수(loss function)를 설정\n",
        "* metrics: 훈련을 모니터링하기 위해 사용\n",
        "\n",
        "* (추가)모델의 훈련과 평가를 즉시 실행하려면 run_eagerly=True 매개변수 전달"
      ],
      "metadata": {
        "id": "Bzsb8m0UxZgX"
      }
    },
    {
      "cell_type": "code",
      "source": [
        "preditions = model(x_train[:1]).numpy() # 각 클래스에 대한 스코어 벡터 반환\n",
        "preditions      "
      ],
      "metadata": {
        "colab": {
          "base_uri": "https://localhost:8080/"
        },
        "id": "oUGKUrPNzOOe",
        "outputId": "35c8ae52-cf45-4cfa-e493-c30981f440d2"
      },
      "execution_count": 6,
      "outputs": [
        {
          "output_type": "execute_result",
          "data": {
            "text/plain": [
              "array([[0.11837799, 0.10229676, 0.12215265, 0.11623695, 0.1287358 ,\n",
              "        0.0839152 , 0.0544358 , 0.10568233, 0.08228636, 0.08588024]],\n",
              "      dtype=float32)"
            ]
          },
          "metadata": {},
          "execution_count": 6
        }
      ]
    },
    {
      "cell_type": "markdown",
      "source": [
        "로짓(logits) 또는 (log-odds)스코어 벡터로 반환\n",
        "* 로짓 함수: (쉽게 말해) 시그모이드 함수의 역함수"
      ],
      "metadata": {
        "id": "LbJEcoB64mFK"
      }
    },
    {
      "cell_type": "code",
      "source": [
        "tf.nn.softmax(preditions).numpy()   # 로짓을 각 클래스에 대한 확률로 변환"
      ],
      "metadata": {
        "colab": {
          "base_uri": "https://localhost:8080/"
        },
        "id": "Pajmw6Qv1ZtZ",
        "outputId": "48f2d460-c597-4990-e993-6749a8582dd9"
      },
      "execution_count": 7,
      "outputs": [
        {
          "output_type": "execute_result",
          "data": {
            "text/plain": [
              "array([[0.10183045, 0.10020598, 0.10221554, 0.10161265, 0.10289066,\n",
              "        0.09838086, 0.09552298, 0.10054581, 0.09822075, 0.09857438]],\n",
              "      dtype=float32)"
            ]
          },
          "metadata": {},
          "execution_count": 7
        }
      ]
    },
    {
      "cell_type": "code",
      "source": [
        "# 손실 함수 정의 -> 찾아볼 것\n",
        "loss_fn = tf.keras.losses.SparseCategoricalCrossentropy(from_logits=True) # 각 예시에 대해 스칼라 손실 반환"
      ],
      "metadata": {
        "id": "hvGyGEwl34LS"
      },
      "execution_count": 8,
      "outputs": []
    },
    {
      "cell_type": "code",
      "source": [
        "loss_fn(y_train[:1], preditions).numpy()    # 훈련되지 않은 모델의 초기 손실"
      ],
      "metadata": {
        "colab": {
          "base_uri": "https://localhost:8080/"
        },
        "id": "35r7YifU6aPu",
        "outputId": "55966c31-7c1f-4b89-9221-01ffdf81d9ab"
      },
      "execution_count": 9,
      "outputs": [
        {
          "output_type": "execute_result",
          "data": {
            "text/plain": [
              "2.318909"
            ]
          },
          "metadata": {},
          "execution_count": 9
        }
      ]
    },
    {
      "cell_type": "markdown",
      "source": [
        "해당 모델은 훈련되지 않았기 때문에 무작위에 가까운확률 제공(총 클래스 개수 10개 -> 각 클래스당 확률 1/10)\n",
        "\n",
        "실제 클래스의 음의 로그 확률\n",
        "tf.math.log(1/10) ~= 2.3\n",
        "\n",
        "모델이 훈련되어 올바른 클래스를 확신하는 경우 손실: 0"
      ],
      "metadata": {
        "id": "G_TqM-9w61NQ"
      }
    },
    {
      "cell_type": "code",
      "source": [
        "# model.compile(optimizer='adam', loss=loss_fn, matrics=[\"accuracy\"]) ?\n",
        "\n",
        "# 훈련 시작 전 모델을 구성하고 컴파일\n",
        "model.compile(optimizer='adam',\n",
        "              loss=loss_fn,\n",
        "              metrics=['accuracy'])"
      ],
      "metadata": {
        "id": "rudhaZBR7Tgs"
      },
      "execution_count": 10,
      "outputs": []
    },
    {
      "cell_type": "markdown",
      "source": [
        "## 모델 훈련 및 평가하기"
      ],
      "metadata": {
        "id": "J4BXBlPe9Q44"
      }
    },
    {
      "cell_type": "code",
      "source": [
        "# 만든 모델을 학습(fit() 함수)\n",
        "hist = model.fit(x_train, y_train, epochs=10)"
      ],
      "metadata": {
        "colab": {
          "base_uri": "https://localhost:8080/"
        },
        "id": "YgxV38rw9UAV",
        "outputId": "96fafd46-f20f-4b0c-ed43-238c5c94d863"
      },
      "execution_count": 11,
      "outputs": [
        {
          "output_type": "stream",
          "name": "stdout",
          "text": [
            "Epoch 1/10\n"
          ]
        },
        {
          "output_type": "stream",
          "name": "stderr",
          "text": [
            "/usr/local/lib/python3.8/dist-packages/tensorflow/python/util/dispatch.py:1082: UserWarning: \"`sparse_categorical_crossentropy` received `from_logits=True`, but the `output` argument was produced by a sigmoid or softmax activation and thus does not represent logits. Was this intended?\"\n",
            "  return dispatch_target(*args, **kwargs)\n"
          ]
        },
        {
          "output_type": "stream",
          "name": "stdout",
          "text": [
            "1875/1875 [==============================] - 3s 2ms/step - loss: 0.2952 - accuracy: 0.9148\n",
            "Epoch 2/10\n",
            "1875/1875 [==============================] - 3s 1ms/step - loss: 0.1422 - accuracy: 0.9566\n",
            "Epoch 3/10\n",
            "1875/1875 [==============================] - 3s 1ms/step - loss: 0.1035 - accuracy: 0.9688\n",
            "Epoch 4/10\n",
            "1875/1875 [==============================] - 3s 1ms/step - loss: 0.0871 - accuracy: 0.9733\n",
            "Epoch 5/10\n",
            "1875/1875 [==============================] - 3s 1ms/step - loss: 0.0720 - accuracy: 0.9773\n",
            "Epoch 6/10\n",
            "1875/1875 [==============================] - 3s 1ms/step - loss: 0.0622 - accuracy: 0.9802\n",
            "Epoch 7/10\n",
            "1875/1875 [==============================] - 3s 1ms/step - loss: 0.0560 - accuracy: 0.9816\n",
            "Epoch 8/10\n",
            "1875/1875 [==============================] - 3s 1ms/step - loss: 0.0512 - accuracy: 0.9834\n",
            "Epoch 9/10\n",
            "1875/1875 [==============================] - 3s 1ms/step - loss: 0.0467 - accuracy: 0.9844\n",
            "Epoch 10/10\n",
            "1875/1875 [==============================] - 3s 1ms/step - loss: 0.0424 - accuracy: 0.9858\n"
          ]
        }
      ]
    },
    {
      "cell_type": "markdown",
      "source": [
        "model.fit(x, y, batch_size=32, epochs=10)\n",
        "* x: 입력 데이터\n",
        "* y: 라벨 값\n",
        "* batch_size:몇 개의 샘플로 가중치를 갱신\n",
        "* epochs: 학습 반복 횟수"
      ],
      "metadata": {
        "id": "SBZzpzPV_br3"
      }
    },
    {
      "cell_type": "code",
      "source": [
        "# 모델 성능 확인\n",
        "model.evaluate(x_train, y_train, verbose=2)"
      ],
      "metadata": {
        "colab": {
          "base_uri": "https://localhost:8080/"
        },
        "id": "BeUsOWCN_aqB",
        "outputId": "e7b7b9d7-f83b-4b45-9b52-ad8d5cd8fbcf"
      },
      "execution_count": 12,
      "outputs": [
        {
          "output_type": "stream",
          "name": "stdout",
          "text": [
            "1875/1875 - 2s - loss: 0.0185 - accuracy: 0.9941 - 2s/epoch - 870us/step\n"
          ]
        },
        {
          "output_type": "execute_result",
          "data": {
            "text/plain": [
              "[0.01846342906355858, 0.9941333532333374]"
            ]
          },
          "metadata": {},
          "execution_count": 12
        }
      ]
    },
    {
      "cell_type": "markdown",
      "source": [
        "model.evauate\n",
        "\n",
        "모델의 최종적인 정답률과 loss값을 반환\n",
        "* 0 번째 인덱스: loss\n",
        "* 1 번째 인덱스: 정답률"
      ],
      "metadata": {
        "id": "aiHBes8IBhlm"
      }
    },
    {
      "cell_type": "code",
      "source": [
        "# 모델이 확률을 반환\n",
        "probability_model = tf.keras.Sequential([\n",
        "    model,\n",
        "    tf.keras.layers.Softmax()\n",
        "])\n",
        "\n",
        "probability_model(x_test[:5])   # 무슨 의미일까"
      ],
      "metadata": {
        "colab": {
          "base_uri": "https://localhost:8080/"
        },
        "id": "4rJcMO0vBTQL",
        "outputId": "d205138e-0af1-488e-87fb-18b125c4a907"
      },
      "execution_count": 13,
      "outputs": [
        {
          "output_type": "execute_result",
          "data": {
            "text/plain": [
              "<tf.Tensor: shape=(5, 10), dtype=float32, numpy=\n",
              "array([[0.08533698, 0.08533698, 0.08533698, 0.08533817, 0.08533698,\n",
              "        0.08533698, 0.08533698, 0.23196542, 0.08533698, 0.08533748],\n",
              "       [0.08533702, 0.08533888, 0.2319649 , 0.08533707, 0.08533702,\n",
              "        0.08533702, 0.08533702, 0.08533702, 0.08533702, 0.08533702],\n",
              "       [0.08533861, 0.2319397 , 0.08533902, 0.08533865, 0.0853395 ,\n",
              "        0.08533869, 0.08533905, 0.08534224, 0.08534589, 0.08533861],\n",
              "       [0.23191473, 0.0853402 , 0.08536287, 0.0853402 , 0.0853402 ,\n",
              "        0.08534023, 0.08534076, 0.08534021, 0.0853402 , 0.08534048],\n",
              "       [0.08533717, 0.08533717, 0.0853373 , 0.08533717, 0.23196256,\n",
              "        0.08533717, 0.08533717, 0.08533764, 0.08533717, 0.08533948]],\n",
              "      dtype=float32)>"
            ]
          },
          "metadata": {},
          "execution_count": 13
        }
      ]
    },
    {
      "cell_type": "markdown",
      "source": [
        "## (번외) Matplotlib을 통해 시각적으로 확인"
      ],
      "metadata": {
        "id": "KsWlPFQqA5r0"
      }
    },
    {
      "cell_type": "code",
      "source": [
        "import matplotlib.pyplot as plt\n",
        "\n",
        "# 위의 모델의 epochs 개수에 따라 개수 나옴\n",
        "print(hist.history[\"loss\"])       # 오차\n",
        "print(hist.history[\"accuracy\"])   # 정확도\n",
        "# print(hist.history[\"val_loss\"])       # 오차\n",
        "# print(hist.history[\"accuracy\"])   # 정확도"
      ],
      "metadata": {
        "colab": {
          "base_uri": "https://localhost:8080/"
        },
        "id": "gxmBp2ggBKZD",
        "outputId": "f69f4979-a466-4492-804b-45fad75186df"
      },
      "execution_count": 14,
      "outputs": [
        {
          "output_type": "stream",
          "name": "stdout",
          "text": [
            "[0.2952362596988678, 0.14218749105930328, 0.10348168015480042, 0.08713308721780777, 0.07200857251882553, 0.06220249459147453, 0.055989596992731094, 0.051238927990198135, 0.04669428616762161, 0.04236298054456711]\n",
            "[0.9147833585739136, 0.9565500020980835, 0.9687833189964294, 0.9733333587646484, 0.9773333072662354, 0.9801999926567078, 0.9816333055496216, 0.9833999872207642, 0.9843999743461609, 0.9858166575431824]\n"
          ]
        }
      ]
    },
    {
      "cell_type": "markdown",
      "source": [
        "fit()함수의 리턴으로 히스토리 객체를 얻을 수 있음\n",
        "* loss, accuraccy"
      ],
      "metadata": {
        "id": "UWNZv_MZVKTM"
      }
    },
    {
      "cell_type": "code",
      "source": [
        "fig, loss_ax = plt.subplots()   # 여러 개의 그래프를 한번에 동시에 그려줌\n",
        "acc_ax = loss_ax.twinx()        # 하나의 그래프에 모두 표현(x축만 공유)\n",
        "\n",
        "loss_ax.plot(hist.history[\"loss\"], \"y\", label=\"train loss\")\n",
        "acc_ax.plot(hist.history[\"accuracy\"], \"g\", label=\"val acc\")\n",
        "\n",
        "loss_ax.set_xlabel(\"epoch\")\n",
        "loss_ax.set_ylabel(\"loss\")\n",
        "acc_ax.set_ylabel(\"accuracy\")\n",
        "\n",
        "loss_ax.legend(loc=\"upper left\")\n",
        "acc_ax.legend(loc=\"lower left\")\n",
        "\n",
        "plt.show()"
      ],
      "metadata": {
        "colab": {
          "base_uri": "https://localhost:8080/",
          "height": 279
        },
        "id": "FqoHcighVQVO",
        "outputId": "b67e0b58-6ad9-4dfc-e9d0-f9e86644ff14"
      },
      "execution_count": 15,
      "outputs": [
        {
          "output_type": "display_data",
          "data": {
            "text/plain": [
              "<Figure size 432x288 with 2 Axes>"
            ],
            "image/png": "[encoded data removed]"
          },
          "metadata": {
            "needs_background": "light"
          }
        }
      ]
    },
    {
      "cell_type": "code",
      "source": [
        "# Matplotlib 연습\n",
        "sub_plots = plt.subplots(3, 2)\n",
        "\n",
        "print(sub_plots)        # 튜플 형태\n",
        "\n",
        "# 객체(튜플 분리)\n",
        "fig = sub_plots[0]      # figure에 대한 정보\n",
        "graph = sub_plots[1]    # graph에 대한 정보\n",
        "\n",
        "print(fig)\n",
        "print(graph)\n",
        "\n",
        "# 오차 그래프 그리기\n",
        "loss_gph = graph[0][0]    # 그래프를 인덱싱하여 어디에 그릴지 지정\n",
        "loss_gph.plot(hist.history[\"loss\"])\n",
        "loss_gph.set_title(\"Loss Graph\")\n",
        "loss_gph.set_xlabel(\"epoch\")\n",
        "loss_gph.set_ylabel(\"loss\")\n",
        "\n",
        "# 정확도 그래프 그리가\n",
        "acc_gph = graph[1][1].twinx()   # y축을 오른쪽에 그림\n",
        "acc_gph.plot(hist.history[\"accuracy\"],\n",
        "             color=\"red\",\n",
        "             marker=\"o\", markerfacecolor=\"pink\", markersize=6)\n",
        "acc_gph.set_title(\"Accuracy Graph\")\n",
        "acc_gph.set_xlabel(\"epoch\")\n",
        "acc_gph.set_ylabel(\"accuracy\", color=\"red\")   # color 생략 가능\n",
        "\n",
        "acc_gph.tick_params(axis=\"y\", labelcolor=\"red\") # 축의 색 수정 (axis의 값으로는 x/y)\n",
        "\n",
        "\n",
        "# 좌표평면 view 수정\n",
        "fig.suptitle(\"Multiple plots\")    # 좌표평면 전체 제목 지정\n",
        "fig.tight_layout(pad=2)\n",
        "\n",
        "plt.show()      # 이거 왜하는거임"
      ],
      "metadata": {
        "colab": {
          "base_uri": "https://localhost:8080/",
          "height": 551
        },
        "id": "eZnMSmQSh8YQ",
        "outputId": "23df36c4-7e3b-4daf-c56b-858c386b666a"
      },
      "execution_count": 16,
      "outputs": [
        {
          "output_type": "stream",
          "name": "stdout",
          "text": [
            "(<Figure size 432x288 with 6 Axes>, array([[<matplotlib.axes._subplots.AxesSubplot object at 0x7fb50f1f4490>,\n",
            "        <matplotlib.axes._subplots.AxesSubplot object at 0x7fb50ed22df0>],\n",
            "       [<matplotlib.axes._subplots.AxesSubplot object at 0x7fb50ecd2550>,\n",
            "        <matplotlib.axes._subplots.AxesSubplot object at 0x7fb50ecfbc70>],\n",
            "       [<matplotlib.axes._subplots.AxesSubplot object at 0x7fb50ecac430>,\n",
            "        <matplotlib.axes._subplots.AxesSubplot object at 0x7fb50ec55c10>]],\n",
            "      dtype=object))\n",
            "Figure(432x288)\n",
            "[[<matplotlib.axes._subplots.AxesSubplot object at 0x7fb50f1f4490>\n",
            "  <matplotlib.axes._subplots.AxesSubplot object at 0x7fb50ed22df0>]\n",
            " [<matplotlib.axes._subplots.AxesSubplot object at 0x7fb50ecd2550>\n",
            "  <matplotlib.axes._subplots.AxesSubplot object at 0x7fb50ecfbc70>]\n",
            " [<matplotlib.axes._subplots.AxesSubplot object at 0x7fb50ecac430>\n",
            "  <matplotlib.axes._subplots.AxesSubplot object at 0x7fb50ec55c10>]]\n"
          ]
        },
        {
          "output_type": "display_data",
          "data": {
            "text/plain": [
              "<Figure size 432x288 with 7 Axes>"
            ],
            "image/png": "[encoded data removed]"
          },
          "metadata": {
            "needs_background": "light"
          }
        }
      ]
    },
    {
      "cell_type": "markdown",
      "source": [
        "subplots(3, 2)의 반환값(객체) => 두 개의 값을 가진 튜플\n",
        "* 인덱스 0(sub_plots[0]): figure의 모양(size, axes 개수)\n",
        "* 인덱스 1(sub_plots[1]): 좌표평면에 대한 정보\n",
        "\n",
        "subplot / subplots의 차이\n",
        "* subplot: 그래프의 배치와 어디에 그릴지 지정해 주어야 함(매개변수 3개)\n",
        "* subplots: 그래프의 배치만 지정해 주면 됨"
      ],
      "metadata": {
        "id": "31cNtTAxjx0k"
      }
    },
    {
      "cell_type": "markdown",
      "source": [
        "twinx: x축을 공유(y축이 두개)\n",
        "\n",
        "twiny: y축을 공유(x축이 두개)"
      ],
      "metadata": {
        "id": "9ZtW29NjvVRB"
      }
    },
    {
      "cell_type": "code",
      "source": [
        "# 학습 결과 저장하기\n",
        "# model.load_weights(\"doit-chapter1\")"
      ],
      "metadata": {
        "id": "65INEMpGr3D0"
      },
      "execution_count": 19,
      "outputs": []
    },
    {
      "cell_type": "code",
      "source": [
        "# 좌표평면 수정... 인데 왜 화면에 안보여짐?\n",
        "fig.suptitle(\"Multiple plots\")    # 좌표평면 전체 제목 지정\n",
        "fig.tight_layout(pad=2)           # 자표평면 사이의 거리\n",
        "plt.show()"
      ],
      "metadata": {
        "id": "tjSTzSD_nKId"
      },
      "execution_count": 17,
      "outputs": []
    }
  ]
}