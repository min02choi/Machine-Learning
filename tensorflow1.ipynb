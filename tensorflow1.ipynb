{
  "nbformat": 4,
  "nbformat_minor": 0,
  "metadata": {
    "colab": {
      "provenance": [],
      "authorship_tag": "ABX9TyNWEB567QWIiJHyywAzICWX",
      "include_colab_link": true
    },
    "kernelspec": {
      "name": "python3",
      "display_name": "Python 3"
    },
    "language_info": {
      "name": "python"
    }
  },
  "cells": [
    {
      "cell_type": "markdown",
      "metadata": {
        "id": "view-in-github",
        "colab_type": "text"
      },
      "source": [
        "<a href=\"https://colab.research.google.com/github/min02choi/Machine-Learning/blob/main/tensorflow1.ipynb\" target=\"_parent\"><img src=\"https://colab.research.google.com/assets/colab-badge.svg\" alt=\"Open In Colab\"/></a>"
      ]
    },
    {
      "cell_type": "code",
      "execution_count": null,
      "metadata": {
        "id": "S_tnI3-PWkxd"
      },
      "outputs": [],
      "source": [
        "import tensorflow as tf\n",
        "import numpy as np"
      ]
    },
    {
      "cell_type": "code",
      "source": [
        "# 텐서 생성하기(스칼라, 단일, 순위0), 축 없음\n",
        "rank_0_tensor = tf.constant(4)  # constant: 변수를 선언할 때 사용\n",
        "print(rank_0_tensor)"
      ],
      "metadata": {
        "colab": {
          "base_uri": "https://localhost:8080/"
        },
        "id": "F8N3WYLkXliA",
        "outputId": "ce101bb0-1410-4fb9-b01a-eb1fbc7611f3"
      },
      "execution_count": null,
      "outputs": [
        {
          "output_type": "stream",
          "name": "stdout",
          "text": [
            "tf.Tensor(4, shape=(), dtype=int32)\n"
          ]
        }
      ]
    },
    {
      "cell_type": "code",
      "source": [
        "# 텐서 생성하기(벡터, 순위1), 축 1개\n",
        "rank_1_tensor = tf.constant([2.0, 3.0, 4.0])\n",
        "print(rank_1_tensor)"
      ],
      "metadata": {
        "colab": {
          "base_uri": "https://localhost:8080/"
        },
        "id": "-3_yQtqpYinn",
        "outputId": "cd79d833-745e-42be-fe54-29e23ebc64f5"
      },
      "execution_count": null,
      "outputs": [
        {
          "output_type": "stream",
          "name": "stdout",
          "text": [
            "tf.Tensor([2. 3. 4.], shape=(3,), dtype=float32)\n"
          ]
        }
      ]
    },
    {
      "cell_type": "code",
      "source": [
        "# 텐서 생성하기(행렬, 순위2), 축 2개\n",
        "rank_2_tensor = tf.constant([[1, 2], [3, 4], [5, 6]], dtype = tf.float16)\n",
        "print(rank_2_tensor)"
      ],
      "metadata": {
        "colab": {
          "base_uri": "https://localhost:8080/"
        },
        "id": "TEOiEOnzY1RW",
        "outputId": "cb5df147-17f8-4938-94b7-8b0a4cf49145"
      },
      "execution_count": null,
      "outputs": [
        {
          "output_type": "stream",
          "name": "stdout",
          "text": [
            "tf.Tensor(\n",
            "[[1. 2.]\n",
            " [3. 4.]\n",
            " [5. 6.]], shape=(3, 2), dtype=float16)\n"
          ]
        }
      ]
    },
    {
      "cell_type": "code",
      "source": [
        "# 텐서 생성하기, 축 3개\n",
        "rank_3_tensor = tf.constant([\n",
        "  [[0, 1, 2, 3, 4],\n",
        "   [5, 6, 7, 8, 9]],\n",
        "  [[10, 11, 12, 13, 14],\n",
        "   [15, 16, 17, 18, 19]],\n",
        "  [[20, 21, 22, 23, 24],\n",
        "   [25, 26, 27, 28, 29]],])\n",
        "print(rank_3_tensor)"
      ],
      "metadata": {
        "colab": {
          "base_uri": "https://localhost:8080/"
        },
        "id": "u0V-oJYLZ18X",
        "outputId": "bc19ed84-c6b2-4b6a-be09-fc74514c3190"
      },
      "execution_count": null,
      "outputs": [
        {
          "output_type": "stream",
          "name": "stdout",
          "text": [
            "tf.Tensor(\n",
            "[[[ 0  1  2  3  4]\n",
            "  [ 5  6  7  8  9]]\n",
            "\n",
            " [[10 11 12 13 14]\n",
            "  [15 16 17 18 19]]\n",
            "\n",
            " [[20 21 22 23 24]\n",
            "  [25 26 27 28 29]]], shape=(3, 2, 5), dtype=int32)\n"
          ]
        }
      ]
    },
    {
      "cell_type": "code",
      "source": [
        "# 텐서를 numpy배열로 변환(1)\n",
        "np.array(rank_2_tensor)"
      ],
      "metadata": {
        "colab": {
          "base_uri": "https://localhost:8080/"
        },
        "id": "XLXtkbVDaqoA",
        "outputId": "a2bec4d6-34fb-40c6-a82d-5dc57588ab65"
      },
      "execution_count": null,
      "outputs": [
        {
          "output_type": "execute_result",
          "data": {
            "text/plain": [
              "array([[1., 2.],\n",
              "       [3., 4.],\n",
              "       [5., 6.]], dtype=float16)"
            ]
          },
          "metadata": {},
          "execution_count": 6
        }
      ]
    },
    {
      "cell_type": "code",
      "source": [
        "# 텐서를 numpy배열로 변환(2)\n",
        "rank_2_tensor.numpy()"
      ],
      "metadata": {
        "colab": {
          "base_uri": "https://localhost:8080/"
        },
        "id": "xBdQ20QQbErd",
        "outputId": "26827fbc-6ee5-45c4-f09b-f1af7b6cb219"
      },
      "execution_count": null,
      "outputs": [
        {
          "output_type": "execute_result",
          "data": {
            "text/plain": [
              "array([[1., 2.],\n",
              "       [3., 4.],\n",
              "       [5., 6.]], dtype=float16)"
            ]
          },
          "metadata": {},
          "execution_count": 7
        }
      ]
    },
    {
      "cell_type": "code",
      "source": [
        "# 텐서에 대한 기본 산술 - 표현법1\n",
        "a = tf.constant([[1, 2], [3, 4]])\n",
        "b = tf.constant([[5, 6], [7, 8]])\n",
        "\n",
        "print(tf.add(a, b), \"\\n\")       # 동일한 위치에 있는 원소의 합\n",
        "print(tf.multiply(a, b), \"\\n\")  # 동일한 위치에 있는 원소의 곱\n",
        "print(tf.matmul(a, b), \"\\n\")    # 행렬의 곱"
      ],
      "metadata": {
        "colab": {
          "base_uri": "https://localhost:8080/"
        },
        "id": "oVytxIQxbVWs",
        "outputId": "7532f4e6-93a6-46bc-b211-55480239a801"
      },
      "execution_count": null,
      "outputs": [
        {
          "output_type": "stream",
          "name": "stdout",
          "text": [
            "tf.Tensor(\n",
            "[[ 6  8]\n",
            " [10 12]], shape=(2, 2), dtype=int32) \n",
            "\n",
            "tf.Tensor(\n",
            "[[ 5 12]\n",
            " [21 32]], shape=(2, 2), dtype=int32) \n",
            "\n",
            "tf.Tensor(\n",
            "[[19 22]\n",
            " [43 50]], shape=(2, 2), dtype=int32) \n",
            "\n"
          ]
        }
      ]
    },
    {
      "cell_type": "code",
      "source": [
        "# 텐서에 대한 기본 산술 - 표현법2\n",
        "print(a + b, \"\\n\")    # 동일한 위치에 있는 원소의 합\n",
        "print(a * b, \"\\n\")    # 동일한 위치에 있는 원소의 곱\n",
        "print(a @ b, \"\\n\")    # 행렬의 곱"
      ],
      "metadata": {
        "colab": {
          "base_uri": "https://localhost:8080/"
        },
        "id": "xbbz8b2VeRFo",
        "outputId": "121c1dfc-7b95-4ccb-8f41-05aa2e057814"
      },
      "execution_count": null,
      "outputs": [
        {
          "output_type": "stream",
          "name": "stdout",
          "text": [
            "tf.Tensor(\n",
            "[[ 6  8]\n",
            " [10 12]], shape=(2, 2), dtype=int32) \n",
            "\n",
            "tf.Tensor(\n",
            "[[ 5 12]\n",
            " [21 32]], shape=(2, 2), dtype=int32) \n",
            "\n",
            "tf.Tensor(\n",
            "[[19 22]\n",
            " [43 50]], shape=(2, 2), dtype=int32) \n",
            "\n"
          ]
        }
      ]
    },
    {
      "cell_type": "code",
      "source": [
        "c = tf.constant([[4.0, 5.0], [10.0, 1.0]])\n",
        "\n",
        "print(tf.reduce_max(c))     # 변수에서 가장 큰 값을 탐색\n",
        "print(tf.math.argmax(c))    # 가장 큰 값의 인덱스 값을 찾음\n",
        "print(tf.nn.softmax(c))     # "
      ],
      "metadata": {
        "id": "KIQwRerue3SW",
        "colab": {
          "base_uri": "https://localhost:8080/"
        },
        "outputId": "3c8f529f-11fd-4649-b577-af5e8a888c24"
      },
      "execution_count": null,
      "outputs": [
        {
          "output_type": "stream",
          "name": "stdout",
          "text": [
            "tf.Tensor(10.0, shape=(), dtype=float32)\n",
            "tf.Tensor([1 0], shape=(2,), dtype=int64)\n",
            "tf.Tensor(\n",
            "[[2.6894143e-01 7.3105860e-01]\n",
            " [9.9987662e-01 1.2339458e-04]], shape=(2, 2), dtype=float32)\n"
          ]
        }
      ]
    },
    {
      "cell_type": "code",
      "source": [
        "# tensor로의 변환\n",
        "tf.convert_to_tensor([1, 2, 3])"
      ],
      "metadata": {
        "colab": {
          "base_uri": "https://localhost:8080/"
        },
        "id": "v_sjA4uHvmSC",
        "outputId": "b0d68ce4-3318-4647-e1da-c2c6598f43aa"
      },
      "execution_count": null,
      "outputs": [
        {
          "output_type": "execute_result",
          "data": {
            "text/plain": [
              "<tf.Tensor: shape=(3,), dtype=int32, numpy=array([1, 2, 3], dtype=int32)>"
            ]
          },
          "metadata": {},
          "execution_count": 11
        }
      ]
    },
    {
      "cell_type": "markdown",
      "source": [
        "## 형상 정보"
      ],
      "metadata": {
        "id": "RMa9tKgCxB98"
      }
    },
    {
      "cell_type": "code",
      "source": [
        "rank_4_tensor = tf.zeros([3, 2, 4, 5])    # 각 축을 전부 0으로 설정\n",
        "\n",
        "print(\"Type of every element: \", rank_4_tensor.dtype)   # 데이터 타입 확인\n",
        "\n",
        "# ndim, shape(속성)는 텐서 객체를 반환하지 않음\n",
        "print(\"Number of axes:\", rank_4_tensor.ndim)      # 배열의 차원 확인            \n",
        "print(\"Shape of tensor:\", rank_4_tensor.shape)\n",
        "\n",
        "print(\"Elements along axis 0 of tensor:\", rank_4_tensor.shape[0])\n",
        "print(\"Elements along the last axis of tensor:\", rank_4_tensor.shape[-1])\n",
        "print(\"Total number of elements (3*2*4*5): \", tf.size(rank_4_tensor).numpy())"
      ],
      "metadata": {
        "colab": {
          "base_uri": "https://localhost:8080/"
        },
        "id": "4G-SWVexxF0f",
        "outputId": "a0318e51-5b59-4cfe-9345-7b84d2e25767"
      },
      "execution_count": 20,
      "outputs": [
        {
          "output_type": "stream",
          "name": "stdout",
          "text": [
            "Type of every element:  <dtype: 'float32'>\n",
            "Number of axes: 4\n",
            "Shape of tensor: (3, 2, 4, 5)\n",
            "Elements along axis 0 of tensor: 3\n",
            "Elements along the last axis of tensor: 5\n",
            "Total number of elements (3*2*4*5):  120\n"
          ]
        }
      ]
    },
    {
      "cell_type": "code",
      "source": [
        "# 텐서가 필요한 경우 tf.rank, tf.shape 함수 사용\n",
        "tf.rank(rank_4_tensor)"
      ],
      "metadata": {
        "colab": {
          "base_uri": "https://localhost:8080/"
        },
        "id": "-qGKwlfBhNYb",
        "outputId": "de22a942-d66d-47c0-d340-8da5dc35b9eb"
      },
      "execution_count": 15,
      "outputs": [
        {
          "output_type": "execute_result",
          "data": {
            "text/plain": [
              "<tf.Tensor: shape=(), dtype=int32, numpy=4>"
            ]
          },
          "metadata": {},
          "execution_count": 15
        }
      ]
    },
    {
      "cell_type": "code",
      "source": [
        "tf.shape(rank_4_tensor)"
      ],
      "metadata": {
        "colab": {
          "base_uri": "https://localhost:8080/"
        },
        "id": "Qd3L1luYhnEN",
        "outputId": "2f37b494-c7cc-4a56-f46d-fcd92a5b52c2"
      },
      "execution_count": 16,
      "outputs": [
        {
          "output_type": "execute_result",
          "data": {
            "text/plain": [
              "<tf.Tensor: shape=(4,), dtype=int32, numpy=array([3, 2, 4, 5], dtype=int32)>"
            ]
          },
          "metadata": {},
          "execution_count": 16
        }
      ]
    },
    {
      "cell_type": "markdown",
      "source": [
        "## 인덱싱"
      ],
      "metadata": {
        "id": "SOYvb8rNhySI"
      }
    },
    {
      "cell_type": "markdown",
      "source": [
        "표준 Python 인덱싱 규칙을 따름"
      ],
      "metadata": {
        "id": "5S1vUXi8h-_g"
      }
    },
    {
      "cell_type": "code",
      "source": [
        "# 단일 축 인덱싱\n",
        "rank_1_tensor = tf.constant([0, 1, 1, 2, 3, 5, 8, 13, 21, 34])\n",
        "\n",
        "print(rank_1_tensor)                        # 텐서 자체를 출력\n",
        "print(rank_1_tensor.numpy())                # 텐서의 값을 출력\n",
        "print(\"First: \", rank_1_tensor[0].numpy())  # 스칼라 사용 인덱싱 -> 축 제거\n",
        "print(\"Slice from 2, before 7: \", rank_1_tensor[2:7].numpy()) # ':' 이용 슬라이싱 -> 축 유지\n",
        "print(\"Jump item: \", rank_1_tensor[::2].numpy())    # 인덱스 2를 간격으로 뜀\n",
        "print(\"Reversed: \", rank_1_tensor[::-1].numpy())    # 반대로 뒤집기"
      ],
      "metadata": {
        "colab": {
          "base_uri": "https://localhost:8080/"
        },
        "id": "8etcQi4ih2D2",
        "outputId": "c7f78572-98ef-4354-e58e-1e60acabc422"
      },
      "execution_count": 29,
      "outputs": [
        {
          "output_type": "stream",
          "name": "stdout",
          "text": [
            "tf.Tensor([ 0  1  1  2  3  5  8 13 21 34], shape=(10,), dtype=int32)\n",
            "[ 0  1  1  2  3  5  8 13 21 34]\n",
            "First:  0\n",
            "Slice from 2, before 7:  [1 2 3 5 8]\n",
            "Jump item:  [ 0  1  3  8 21]\n",
            "Reversed:  [34 21 13  8  5  3  2  1  1  0]\n"
          ]
        }
      ]
    },
    {
      "cell_type": "code",
      "source": [
        "# 다축 인덱싱 -> 여러 인덱스 사용, 단일 축의 경우에서와 같은 규칙이 각 축에 독립적으로 작용\n",
        "print(rank_2_tensor.numpy())\n",
        "\n",
        "print(rank_2_tensor[1, 1].numpy())    # 각 축에 정수 전잘 시 결과는 스칼라\n",
        "print(\"Second row:\", rank_2_tensor[1, :].numpy())     # 1번째 행 전부 출력\n",
        "print(\"Second column:\", rank_2_tensor[:, 1].numpy())  # 1번째 열 전부 출력\n",
        "print(\"Skip the first row:\")\n",
        "print(rank_2_tensor[1:, :].numpy(), \"\\n\")             # 0번째 행 제외 전부 출력(1번째 행부터 끝까지 출력)"
      ],
      "metadata": {
        "colab": {
          "base_uri": "https://localhost:8080/"
        },
        "id": "fiRXBt2yk9S6",
        "outputId": "cae8dc44-cf7c-4ccf-f69f-1458d0d6bd40"
      },
      "execution_count": 73,
      "outputs": [
        {
          "output_type": "stream",
          "name": "stdout",
          "text": [
            "[[1. 2.]\n",
            " [3. 4.]\n",
            " [5. 6.]]\n",
            "4.0\n",
            "Second row: [3. 4.]\n",
            "Second column: [2. 4. 6.]\n",
            "Skip the first row:\n",
            "[[3. 4.]\n",
            " [5. 6.]] \n",
            "\n"
          ]
        }
      ]
    },
    {
      "cell_type": "markdown",
      "source": [
        "## 형상 조작하기"
      ],
      "metadata": {
        "id": "FORZFv6UmECw"
      }
    },
    {
      "cell_type": "code",
      "source": [
        "x = tf.constant([[1], [2], [3]])\n",
        "print(x.shape)\n",
        "print(x.shape.as_list())    # 파이썬 배열로 반환"
      ],
      "metadata": {
        "colab": {
          "base_uri": "https://localhost:8080/"
        },
        "id": "f_ld3vZXmGYj",
        "outputId": "797c00ed-2d49-4e31-e0a8-f7eb8ac53192"
      },
      "execution_count": 35,
      "outputs": [
        {
          "output_type": "stream",
          "name": "stdout",
          "text": [
            "(3, 1)\n",
            "[3, 1]\n"
          ]
        }
      ]
    },
    {
      "cell_type": "code",
      "source": [
        "# 새로운 형상으로 변환하기(tf.reshape)\n",
        "reshaped = tf.reshape(x, [1, 3])\n",
        "print(x.shape)\n",
        "print(reshaped.shape)"
      ],
      "metadata": {
        "colab": {
          "base_uri": "https://localhost:8080/"
        },
        "id": "yhlu7Z-fmrzH",
        "outputId": "7e2e0929-6848-43d8-b810-5276d379f3bd"
      },
      "execution_count": 37,
      "outputs": [
        {
          "output_type": "stream",
          "name": "stdout",
          "text": [
            "(3, 1)\n",
            "(1, 3)\n"
          ]
        }
      ]
    },
    {
      "cell_type": "code",
      "source": [
        "print(rank_3_tensor)\n",
        "print(tf.reshape(rank_3_tensor, [-1]))        # -1 일렬로 텐서를 나열\n",
        "print(tf.reshape(rank_3_tensor, [2, 3, 5]))   # 원하는 shape대로 모양 변형\n",
        "\n",
        "# rank_3_tensor은 현재 3*2*5 = 30임\n",
        "# reshape를 할때 곱해서 도합 30이 나오게끔 shape 설정([1, 30], [2, 15], [2, 3, 5] 등)"
      ],
      "metadata": {
        "colab": {
          "base_uri": "https://localhost:8080/"
        },
        "id": "0oDHOEEqnQIW",
        "outputId": "c6a1daa1-cf29-4cf2-82b0-4806a858c7c5"
      },
      "execution_count": 74,
      "outputs": [
        {
          "output_type": "stream",
          "name": "stdout",
          "text": [
            "tf.Tensor(\n",
            "[[[ 0  1  2  3  4]\n",
            "  [ 5  6  7  8  9]]\n",
            "\n",
            " [[10 11 12 13 14]\n",
            "  [15 16 17 18 19]]\n",
            "\n",
            " [[20 21 22 23 24]\n",
            "  [25 26 27 28 29]]], shape=(3, 2, 5), dtype=int32)\n",
            "tf.Tensor(\n",
            "[ 0  1  2  3  4  5  6  7  8  9 10 11 12 13 14 15 16 17 18 19 20 21 22 23\n",
            " 24 25 26 27 28 29], shape=(30,), dtype=int32)\n",
            "tf.Tensor(\n",
            "[[[ 0  1  2  3  4]\n",
            "  [ 5  6  7  8  9]\n",
            "  [10 11 12 13 14]]\n",
            "\n",
            " [[15 16 17 18 19]\n",
            "  [20 21 22 23 24]\n",
            "  [25 26 27 28 29]]], shape=(2, 3, 5), dtype=int32)\n"
          ]
        }
      ]
    },
    {
      "cell_type": "markdown",
      "source": [
        "### Dtypes에 대한 추가 정보\n",
        "tf.Tensor의 데이터 유형을 검사하려면, Tensor.dtype 속성을 사용<br>\n",
        "Python 객체에서 tf.Tensor를 만들 때 선택적으로 데이터 유형을 지정할 수 있음\n",
        "* Python 정수 -> tf.int32\n",
        "* Python 부동 소수점 -> tf.float32"
      ],
      "metadata": {
        "id": "08QKn-59ph6l"
      }
    },
    {
      "cell_type": "code",
      "source": [
        "the_f64_tensor = tf.constant([2.2, 3.3, 4.4], dtype=tf.float64) # float64로 데이터 타입 지정\n",
        "the_f16_tensor = tf.cast(the_f64_tensor, dtype=tf.float16)      # float16으로 캐스팅\n",
        "\n",
        "# Now, cast to an uint8 and lose the decimal precision\n",
        "the_u8_tensor = tf.cast(the_f16_tensor, dtype=tf.uint8)         # 정수형으로 변환 -> 소숫점 아래 잃게 됨\n",
        "print(the_u8_tensor)"
      ],
      "metadata": {
        "colab": {
          "base_uri": "https://localhost:8080/"
        },
        "id": "SOSUAP7tptAv",
        "outputId": "a2268296-021b-4208-813a-9878529e9dec"
      },
      "execution_count": 46,
      "outputs": [
        {
          "output_type": "stream",
          "name": "stdout",
          "text": [
            "tf.Tensor([2 3 4], shape=(3,), dtype=uint8)\n"
          ]
        }
      ]
    },
    {
      "cell_type": "markdown",
      "source": [
        "### 브로드캐스팅\n",
        "특정 조건에서 작은 텐서는 결합된 연산을 실행할 때 더 큰 텐서에 맞게 자동으로 '확장'을 함"
      ],
      "metadata": {
        "id": "wVQSFIy1tYcB"
      }
    },
    {
      "cell_type": "code",
      "source": [
        "x = tf.constant([1, 2, 3])\n",
        "y = tf.constant(2)\n",
        "z = tf.constant([2, 2, 2])\n",
        "\n",
        "# 아래는 다 같은 연산임\n",
        "print(tf.multiply(x, 2))    # x의 각 원소에 2를 곱함\n",
        "print(x * y)\n",
        "print(x * z)"
      ],
      "metadata": {
        "colab": {
          "base_uri": "https://localhost:8080/"
        },
        "id": "NN_U-QtatXQU",
        "outputId": "e10f6bb8-c482-496e-dd5c-8f8ac154643a"
      },
      "execution_count": 53,
      "outputs": [
        {
          "output_type": "stream",
          "name": "stdout",
          "text": [
            "tf.Tensor([2 4 6], shape=(3,), dtype=int32)\n",
            "tf.Tensor([2 4 6], shape=(3,), dtype=int32)\n",
            "tf.Tensor([2 4 6], shape=(3,), dtype=int32)\n"
          ]
        }
      ]
    },
    {
      "cell_type": "code",
      "source": [
        "print(x.numpy())\n",
        "x = tf.reshape(x, [3, 1])\n",
        "print(x.numpy())\n",
        "\n",
        "# 근데 궁금한 점: 어떨 때는 행렬의 곱이 되고 어떨 땐 그냥 곱하기가 됨? constant가 영향이 있는 건가"
      ],
      "metadata": {
        "colab": {
          "base_uri": "https://localhost:8080/"
        },
        "id": "iyUOhuxYsirf",
        "outputId": "0de8f4c4-0514-497c-d2cc-e34b0beafbfc"
      },
      "execution_count": 50,
      "outputs": [
        {
          "output_type": "stream",
          "name": "stdout",
          "text": [
            "[[1]\n",
            " [2]\n",
            " [3]]\n",
            "[[1]\n",
            " [2]\n",
            " [3]]\n"
          ]
        }
      ]
    },
    {
      "cell_type": "code",
      "source": [
        "# 브로드캐스팅 한 값이 무엇인지 미리 확인 가능\n",
        "print(tf.broadcast_to(tf.constant([1, 2, 3]), [4, 3]))"
      ],
      "metadata": {
        "colab": {
          "base_uri": "https://localhost:8080/"
        },
        "id": "rIapPfzLwKsi",
        "outputId": "10218812-367f-460b-97c8-abb401204f84"
      },
      "execution_count": 56,
      "outputs": [
        {
          "output_type": "stream",
          "name": "stdout",
          "text": [
            "tf.Tensor(\n",
            "[[1 2 3]\n",
            " [1 2 3]\n",
            " [1 2 3]\n",
            " [1 2 3]], shape=(4, 3), dtype=int32)\n"
          ]
        }
      ]
    },
    {
      "cell_type": "markdown",
      "source": [
        "## tf.convert_to_tensor\n",
        "추가로 찾아보세요"
      ],
      "metadata": {
        "id": "JWAYUSEdw-ps"
      }
    },
    {
      "cell_type": "markdown",
      "source": [
        "## 비정형 텐서\n",
        "각 축이 다양한 수요를 가진 텐서"
      ],
      "metadata": {
        "id": "i1Cg68i_xHTN"
      }
    },
    {
      "cell_type": "code",
      "source": [
        "ragged_list = [\n",
        "    [0, 1, 2, 3],\n",
        "    [4, 5],\n",
        "    [6, 7, 8],\n",
        "    [9]]\n",
        "\n",
        "# rag = tf.constant(ragged_list)        # 정규텐서로 변환 불가\n",
        "rag = tf.ragged.constant(ragged_list)   # ragged 사용할 것\n",
        "\n",
        "print(rag)"
      ],
      "metadata": {
        "colab": {
          "base_uri": "https://localhost:8080/"
        },
        "id": "0PVauncHxCo7",
        "outputId": "7fc4990e-54c4-478f-8668-dcbbf1d4fd5a"
      },
      "execution_count": 61,
      "outputs": [
        {
          "output_type": "stream",
          "name": "stdout",
          "text": [
            "<tf.RaggedTensor [[0, 1, 2, 3], [4, 5], [6, 7, 8], [9]]>\n"
          ]
        }
      ]
    },
    {
      "cell_type": "markdown",
      "source": [
        "## 문자열 텐서\n",
        "tf.string은 dtype\n",
        "* 문자열은 원자성이므로 Python 문자열과 같은 방식으로 인덱싱할 수 없음\n",
        "* 문자열을 조작하는 함수는 tf.strings 참고"
      ],
      "metadata": {
        "id": "EslAgqMOyfPw"
      }
    },
    {
      "cell_type": "code",
      "source": [
        "# 문자열 텐서\n",
        "# 출력 결과에 나오는 b는 tf.string dtype이 유니코드 문자열이 아닌 바이트 문자열임을 나타냄\n",
        "scalar_string_tensor = tf.constant(\"Gray wolf\")\n",
        "print(scalar_string_tensor)\n",
        "print(scalar_string_tensor.numpy())\n",
        "\n",
        "# tf.strings를 이용한 문자열 조작\n",
        "print(tf.strings.split(scalar_string_tensor, sep=\" \"))  # 공백을 기준으로 분리\n",
        "\n",
        "# 문자열로 되어있는 숫자를 숫자로 변환\n",
        "# tf.string.to_number\n",
        "text = tf.constant(\"1 10 100\")\n",
        "print(tf.strings.to_number(tf.strings.split(text, \" \")))"
      ],
      "metadata": {
        "colab": {
          "base_uri": "https://localhost:8080/"
        },
        "id": "KiZCLaGoy1li",
        "outputId": "53873e7b-f713-452d-b3e1-1104da9b6c50"
      },
      "execution_count": 65,
      "outputs": [
        {
          "output_type": "stream",
          "name": "stdout",
          "text": [
            "tf.Tensor(b'Gray wolf', shape=(), dtype=string)\n",
            "b'Gray wolf'\n",
            "tf.Tensor([b'Gray' b'wolf'], shape=(2,), dtype=string)\n",
            "tf.Tensor([  1.  10. 100.], shape=(3,), dtype=float32)\n"
          ]
        }
      ]
    },
    {
      "cell_type": "code",
      "source": [
        "# 문자열을 바이트로 변환\n",
        "byte_strings = tf.strings.bytes_split(tf.constant(\"Duck\"))  # 각 바이트로 쪼갬\n",
        "byte_ints = tf.io.decode_raw(tf.constant(\"Duck\"), tf.uint8) # 바이트로 쪼갠 후 유니코드로 변환\n",
        "print(\"Byte strings:\", byte_strings)\n",
        "print(\"Bytes:\", byte_ints)"
      ],
      "metadata": {
        "colab": {
          "base_uri": "https://localhost:8080/"
        },
        "id": "GydzGL9m01wO",
        "outputId": "b9febc7a-af22-45fb-e292-ad1e10a3d9a1"
      },
      "execution_count": 66,
      "outputs": [
        {
          "output_type": "stream",
          "name": "stdout",
          "text": [
            "Byte strings: tf.Tensor([b'D' b'u' b'c' b'k'], shape=(4,), dtype=string)\n",
            "Bytes: tf.Tensor([ 68 117  99 107], shape=(4,), dtype=uint8)\n"
          ]
        }
      ]
    },
    {
      "cell_type": "markdown",
      "source": [
        "* tf.string dtype -> TensorFlow의 모든 원시 바이트 데이터에 사용\n",
        "* tf.io 모듈: 이미지 디코딩, csv 구문 분석 등 데이터를 바이트로 변환하거나 바이트에서 변환하는 함수가 포함"
      ],
      "metadata": {
        "id": "INfBwqsW1Sit"
      }
    },
    {
      "cell_type": "markdown",
      "source": [
        "## 희소 텐서\n",
        "매우 넓은 공간에 데이터가 희소한 경우\n",
        "* tf.sparse.SparseTensor 및 관련 연산을 지원하여 희소 데이터를 효율적으로 저장"
      ],
      "metadata": {
        "id": "X0P0edsF1oiG"
      }
    },
    {
      "cell_type": "code",
      "source": [
        "# Sparse tensors store values by index in a memory-efficient manner\n",
        "sparse_tensor = tf.sparse.SparseTensor(indices=[[0, 0], [1, 2]],\n",
        "                                       values=[24, 3.5],\n",
        "                                       dense_shape=[5, 6])\n",
        "print(sparse_tensor, \"\\n\")\n",
        "\n",
        "# You can convert sparse tensors to dense\n",
        "print(tf.sparse.to_dense(sparse_tensor))\n"
      ],
      "metadata": {
        "colab": {
          "base_uri": "https://localhost:8080/"
        },
        "id": "nqLk6eFS1ySn",
        "outputId": "75584e0a-8350-4319-b050-17fffbef519f"
      },
      "execution_count": 72,
      "outputs": [
        {
          "output_type": "stream",
          "name": "stdout",
          "text": [
            "SparseTensor(indices=tf.Tensor(\n",
            "[[0 0]\n",
            " [1 2]], shape=(2, 2), dtype=int64), values=tf.Tensor([24.   3.5], shape=(2,), dtype=float32), dense_shape=tf.Tensor([5 6], shape=(2,), dtype=int64)) \n",
            "\n",
            "tf.Tensor(\n",
            "[[24.   0.   0.   0.   0.   0. ]\n",
            " [ 0.   0.   3.5  0.   0.   0. ]\n",
            " [ 0.   0.   0.   0.   0.   0. ]\n",
            " [ 0.   0.   0.   0.   0.   0. ]\n",
            " [ 0.   0.   0.   0.   0.   0. ]], shape=(5, 6), dtype=float32)\n"
          ]
        }
      ]
    }
  ]
}