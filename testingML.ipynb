{
  "nbformat": 4,
  "nbformat_minor": 0,
  "metadata": {
    "colab": {
      "provenance": [],
      "authorship_tag": "ABX9TyM9/8+j5PaUBQZ9GGp2e7p+",
      "include_colab_link": true
    },
    "kernelspec": {
      "name": "python3",
      "display_name": "Python 3"
    },
    "language_info": {
      "name": "python"
    }
  },
  "cells": [
    {
      "cell_type": "markdown",
      "metadata": {
        "id": "view-in-github",
        "colab_type": "text"
      },
      "source": [
        "<a href=\"https://colab.research.google.com/github/min02choi/Machine-Learning/blob/main/testingML.ipynb\" target=\"_parent\"><img src=\"https://colab.research.google.com/assets/colab-badge.svg\" alt=\"Open In Colab\"/></a>"
      ]
    },
    {
      "cell_type": "code",
      "execution_count": null,
      "metadata": {
        "colab": {
          "base_uri": "https://localhost:8080/"
        },
        "id": "fY6wuiN7b6Gw",
        "outputId": "5e5bc24f-672c-4414-b78a-aef7f78cae54"
      },
      "outputs": [
        {
          "output_type": "stream",
          "name": "stdout",
          "text": [
            "hello workld\n"
          ]
        }
      ],
      "source": [
        "print(\"hello workld\")"
      ]
    },
    {
      "cell_type": "code",
      "source": [
        "import tensorflow as tf"
      ],
      "metadata": {
        "id": "DHYiQ1FEcEvY"
      },
      "execution_count": null,
      "outputs": []
    },
    {
      "cell_type": "code",
      "source": [
        "import tempfile\n",
        "import os\n",
        "\n",
        "import tensorflow as tf\n",
        "import numpy as np\n",
        "\n",
        "from tensorflow import keras\n",
        "import matplotlib.pyplot as plt"
      ],
      "metadata": {
        "id": "PU-UFv3mcyyz"
      },
      "execution_count": null,
      "outputs": []
    },
    {
      "cell_type": "code",
      "source": [
        "\n",
        "mnist = keras.datasets.mnist\n",
        "(train_images, train_labels), (test_images, test_labels) = mnist.load_data()\n",
        "\n",
        "print(type(train_images))\n",
        "print(train_images.shape)\n",
        "\n",
        "#print(train_images[0])\n",
        "\n",
        "num = 6432\n",
        "for i in range(28):\n",
        "  for j in range(28):\n",
        "    print(f\"{train_images[num][i][j]:3d}\", end = \" \")\n",
        "  print()\n",
        "plt.imshow(train_images[num], cmap='gray')\n",
        "\n"
      ],
      "metadata": {
        "colab": {
          "base_uri": "https://localhost:8080/",
          "height": 611
        },
        "id": "s42u9U5SdyZO",
        "outputId": "2f4d9adf-dbaa-4f9c-daef-a1bd957f7799"
      },
      "execution_count": null,
      "outputs": [
        {
          "output_type": "stream",
          "name": "stdout",
          "text": [
            "<class 'numpy.ndarray'>\n",
            "(60000, 28, 28)\n",
            "  0   0   0   0   0   0   0   0   0   0   0   0   0   0   0   0   0   0   0   0   0   0   0   0   0   0   0   0 \n",
            "  0   0   0   0   0   0   0   0   0   0   0   0   0   0   0   0   0   0   0   0   0   0   0   0   0   0   0   0 \n",
            "  0   0   0   0   0   0   0   0   0   0   0   0   0   0   0   0   0   0   0   0   0   0   0   0   0   0   0   0 \n",
            "  0   0   0   0   0   0   0   0   0   0   0   0   0   0   0   0   0   0   0   0   0   0   0   0   0   0   0   0 \n",
            "  0   0   0   0   0   0   0   0   0   0   0   0   0   0   0   0   0   0   0   0   0   0   0   0   0   0   0   0 \n",
            "  0   0   0   0   0   0   0   0   0   0   0   0   0   0   0   0   0   0   0   0   0   0   0   0   0   0   0   0 \n",
            "  0   0   0   0   0   0   0   0   0  21 254 164  83   4   0   0   0   0   0   0   0   0   0   0   0   0   0   0 \n",
            "  0   0   0   0   0   0   0   0   0  21 253 253 253 157 111 111 111  48  11   4   0   0   0   0   0   0   0   0 \n",
            "  0   0   0   0   0   0   0   0   0   8 119 196 253 253 253 253 253 253 253 166   8   0   0   0   0   0   0   0 \n",
            "  0   0   0   0   0   0   0   0   0   0   0   5  35  90 134 133 136 254 253 220  16   0   0   0   0   0   0   0 \n",
            "  0   0   0   0   0   0   0   0   0   0   0   0   0   0   0   0 104 253 249  91   0   0   0   0   0   0   0   0 \n",
            "  0   0   0   0   0   0   0   0   0   0   0   0   0   0   0  58 249 253  98   0   0   0   0   0   0   0   0   0 \n",
            "  0   0   0   0   0   0   0   0   0   0   0   0   0   0  32 224 253 176  11   0   0   0   0   0   0   0   0   0 \n",
            "  0   0   0   0   0   0   0   0   0   0   0   0   0   7 159 253 250  46  80 107 140 139 140  52   0   0   0   0 \n",
            "  0   0   0   0   0   0   0   0   0   0  95 105  95 159 254 253 253 254 253 253 254 224 145  39   0   0   0   0 \n",
            "  0   0   0   0   0   0   0   0   0  16 237 253 253 253 253 253 253 222 198 104  55   3   0   0   0   0   0   0 \n",
            "  0   0   0   0   0   0   0   0   0   0  64 242 253 253 212 129  49  19   0   0   0   0   0   0   0   0   0   0 \n",
            "  0   0   0   0   0   0   0   0   0   0   0 192 253 205  22   0   0   0   0   0   0   0   0   0   0   0   0   0 \n",
            "  0   0   0   0   0   0   0   0   0   0  70 250 248  68   0   0   0   0   0   0   0   0   0   0   0   0   0   0 \n",
            "  0   0   0   0   0   0   0   0   0   6 196 253 141   0   0   0   0   0   0   0   0   0   0   0   0   0   0   0 \n",
            "  0   0   0   0   0   0   0   0   0  70 254 251  63   0   0   0   0   0   0   0   0   0   0   0   0   0   0   0 \n",
            "  0   0   0   0   0   0   0   0  21 201 253 233  22   0   0   0   0   0   0   0   0   0   0   0   0   0   0   0 \n",
            "  0   0   0   0   0   0   0   0  79 254 254 238  33   0   0   0   0   0   0   0   0   0   0   0   0   0   0   0 \n",
            "  0   0   0   0   0   0   0   4 196 254 253 114   0   0   0   0   0   0   0   0   0   0   0   0   0   0   0   0 \n",
            "  0   0   0   0   0   0   0   9 238 254 240  20   0   0   0   0   0   0   0   0   0   0   0   0   0   0   0   0 \n",
            "  0   0   0   0   0   0   0   0 126 246  70   0   0   0   0   0   0   0   0   0   0   0   0   0   0   0   0   0 \n",
            "  0   0   0   0   0   0   0   0   0   0   0   0   0   0   0   0   0   0   0   0   0   0   0   0   0   0   0   0 \n",
            "  0   0   0   0   0   0   0   0   0   0   0   0   0   0   0   0   0   0   0   0   0   0   0   0   0   0   0   0 \n"
          ]
        },
        {
          "output_type": "execute_result",
          "data": {
            "text/plain": [
              "<matplotlib.image.AxesImage at 0x7f1813ca7940>"
            ]
          },
          "metadata": {},
          "execution_count": 27
        },
        {
          "output_type": "display_data",
          "data": {
            "text/plain": [
              "<Figure size 432x288 with 1 Axes>"
            ],
            "image/png": "[encoded data removed]"
          },
          "metadata": {
            "needs_background": "light"
          }
        }
      ]
    },
    {
      "cell_type": "code",
      "source": [
        "# Load MNIST dataset\n",
        "mnist = keras.datasets.mnist\n",
        "(train_images, train_labels), (test_images, test_labels) = mnist.load_data()\n",
        "\n",
        "\n",
        "\n",
        "# Normalize the input image so that each pixel value is between 0 and 1.\n",
        "train_images = train_images / 255.0\n",
        "test_images = test_images / 255.0\n",
        "\n",
        "# Define the model architecture.\n",
        "model = keras.Sequential([\n",
        "  keras.layers.InputLayer(input_shape=(28, 28)),\n",
        "  keras.layers.Reshape(target_shape=(28, 28, 1)),\n",
        "  keras.layers.Conv2D(filters=12, kernel_size=(3, 3), activation='relu'),\n",
        "  keras.layers.MaxPooling2D(pool_size=(2, 2)),\n",
        "  keras.layers.Flatten(),\n",
        "  keras.layers.Dense(10)\n",
        "])\n",
        "\n",
        "# Train the digit classification model\n",
        "model.compile(optimizer='adam',\n",
        "              loss=tf.keras.losses.SparseCategoricalCrossentropy(from_logits=True),\n",
        "              metrics=['accuracy'])\n",
        "##train model\n",
        "model.fit(\n",
        "  train_images,\n",
        "  train_labels,\n",
        "  epochs=4,\n",
        "  validation_split=0.1,\n",
        ")"
      ],
      "metadata": {
        "colab": {
          "base_uri": "https://localhost:8080/"
        },
        "id": "ZU1a9mcic-K-",
        "outputId": "6b36f0fa-f0d4-4eb5-9e53-8652e4294ae2"
      },
      "execution_count": null,
      "outputs": [
        {
          "output_type": "stream",
          "name": "stdout",
          "text": [
            "Downloading data from https://storage.googleapis.com/tensorflow/tf-keras-datasets/mnist.npz\n",
            "11490434/11490434 [==============================] - 0s 0us/step\n",
            "Epoch 1/4\n",
            "1688/1688 [==============================] - 20s 12ms/step - loss: 0.3409 - accuracy: 0.9028 - val_loss: 0.1575 - val_accuracy: 0.9578\n",
            "Epoch 2/4\n",
            "1688/1688 [==============================] - 20s 12ms/step - loss: 0.1426 - accuracy: 0.9589 - val_loss: 0.0959 - val_accuracy: 0.9753\n",
            "Epoch 3/4\n",
            "1688/1688 [==============================] - 21s 12ms/step - loss: 0.0929 - accuracy: 0.9737 - val_loss: 0.0792 - val_accuracy: 0.9788\n",
            "Epoch 4/4\n",
            "1688/1688 [==============================] - 19s 11ms/step - loss: 0.0736 - accuracy: 0.9794 - val_loss: 0.0678 - val_accuracy: 0.9803\n"
          ]
        },
        {
          "output_type": "execute_result",
          "data": {
            "text/plain": [
              "<keras.callbacks.History at 0x7f181935ce80>"
            ]
          },
          "metadata": {},
          "execution_count": 6
        }
      ]
    },
    {
      "cell_type": "code",
      "source": [
        "# Evaluate the model on the test data using `evaluate`\n",
        "print(\"Evaluate on test data\")\n",
        "results = model.evaluate(test_images, test_labels, batch_size=128)\n",
        "print(\"test loss, test acc:\", results)\n",
        "\n",
        "# Generate predictions (probabilities -- the output of the last layer)\n",
        "# on new data using `predict`\n",
        "print(\"Generate predictions for 3 samples\")\n",
        "predictions = model.predict(test_images)\n",
        "print(\"predictions shape:\", predictions.shape)\n",
        "predictions"
      ],
      "metadata": {
        "colab": {
          "base_uri": "https://localhost:8080/"
        },
        "id": "LRRuvdsfdXN8",
        "outputId": "bf1efedf-4a31-4d92-f709-2b1fe83a6f14"
      },
      "execution_count": null,
      "outputs": [
        {
          "output_type": "stream",
          "name": "stdout",
          "text": [
            "Evaluate on test data\n",
            "79/79 [==============================] - 1s 15ms/step - loss: 297.2141 - accuracy: 0.6893\n",
            "test loss, test acc: [297.2140808105469, 0.689300000667572]\n",
            "Generate predictions for 3 samples\n",
            "313/313 [==============================] - 2s 5ms/step\n",
            "predictions shape: (10000, 10)\n"
          ]
        },
        {
          "output_type": "execute_result",
          "data": {
            "text/plain": [
              "array([[-1740.5785 , -3783.0144 , -1321.5762 , ...,  2343.2034 ,\n",
              "          425.0632 ,  -159.95525],\n",
              "       [-1509.2902 , -2161.4211 ,  1484.9291 , ..., -6623.126  ,\n",
              "          451.89047, -4185.6895 ],\n",
              "       [-1071.7612 ,   378.4079 ,  -816.08185, ..., -1479.8672 ,\n",
              "         1245.1129 , -1013.2792 ],\n",
              "       ...,\n",
              "       [-3553.8684 , -4181.792  , -3521.169  , ..., -1270.9014 ,\n",
              "         1446.8046 ,   536.4313 ],\n",
              "       [-2442.1167 , -4592.5933 , -3255.2253 , ..., -4226.186  ,\n",
              "         2243.8684 , -1899.6564 ],\n",
              "       [-2179.8896 , -6774.0464 ,  -868.2597 , ..., -4807.269  ,\n",
              "           84.38689, -4033.1187 ]], dtype=float32)"
            ]
          },
          "metadata": {},
          "execution_count": 31
        }
      ]
    },
    {
      "cell_type": "code",
      "source": [],
      "metadata": {
        "id": "mIsteKuPhnVe",
        "colab": {
          "base_uri": "https://localhost:8080/"
        },
        "outputId": "6f4693a0-0c47-4aa7-e8bc-a0c78a26125f"
      },
      "execution_count": 2,
      "outputs": [
        {
          "output_type": "stream",
          "name": "stdout",
          "text": [
            "fatal: not a git repository (or any of the parent directories): .git\n"
          ]
        }
      ]
    }
  ]
}