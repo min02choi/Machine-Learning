{
  "nbformat": 4,
  "nbformat_minor": 0,
  "metadata": {
    "colab": {
      "provenance": [],
      "authorship_tag": "ABX9TyM5CHVEGVIwgcbDtBzHCtFj",
      "include_colab_link": true
    },
    "kernelspec": {
      "name": "python3",
      "display_name": "Python 3"
    },
    "language_info": {
      "name": "python"
    }
  },
  "cells": [
    {
      "cell_type": "markdown",
      "metadata": {
        "id": "view-in-github",
        "colab_type": "text"
      },
      "source": [
        "<a href=\"https://colab.research.google.com/github/min02choi/Machine-Learning/blob/main/Basic_Image_Classify.ipynb\" target=\"_parent\"><img src=\"https://colab.research.google.com/assets/colab-badge.svg\" alt=\"Open In Colab\"/></a>"
      ]
    },
    {
      "cell_type": "markdown",
      "source": [
        "Keras를 사용한 ML 기본사항<br>\n"
      ],
      "metadata": {
        "id": "vNaHk1Tf-Eko"
      }
    },
    {
      "cell_type": "markdown",
      "source": [
        "# 기본 분류: 의류 이미지 분류"
      ],
      "metadata": {
        "id": "GOddNyUWM-va"
      }
    },
    {
      "cell_type": "markdown",
      "source": [
        "## 패션 MNIST 데이터셋 임포트하기\n",
        "10개의 범주, 70000개의 흑백이미지로 구성된 데이터셋 불러오기\n",
        "* 이미지 해상도 28*28"
      ],
      "metadata": {
        "id": "A-ecta6aNJR5"
      }
    },
    {
      "cell_type": "code",
      "execution_count": null,
      "metadata": {
        "colab": {
          "base_uri": "https://localhost:8080/"
        },
        "id": "Ls5D7c_4MkHr",
        "outputId": "a02ddc6f-dad9-4362-9887-218beaedc6f1"
      },
      "outputs": [
        {
          "output_type": "stream",
          "name": "stdout",
          "text": [
            "2.9.2\n"
          ]
        }
      ],
      "source": [
        "# 텐서플로우, 관련 라이브러리 임포트\n",
        "import tensorflow as tf\n",
        "\n",
        "import numpy as np\n",
        "import matplotlib.pyplot as plt\n",
        "\n",
        "print(tf.__version__)"
      ]
    },
    {
      "cell_type": "code",
      "source": [
        "# 데이터셋 불러오기\n",
        "fashion_mnist = tf.keras.datasets.fashion_mnist\n",
        "(train_images, train_labels), (test_images, test_labels) = fashion_mnist.load_data()"
      ],
      "metadata": {
        "colab": {
          "base_uri": "https://localhost:8080/"
        },
        "id": "Gx-yo53cNt5D",
        "outputId": "dee574b7-8617-4c53-e136-a75a80fdfafe"
      },
      "execution_count": null,
      "outputs": [
        {
          "output_type": "stream",
          "name": "stdout",
          "text": [
            "Downloading data from https://storage.googleapis.com/tensorflow/tf-keras-datasets/train-labels-idx1-ubyte.gz\n",
            "29515/29515 [==============================] - 0s 0us/step\n",
            "Downloading data from https://storage.googleapis.com/tensorflow/tf-keras-datasets/train-images-idx3-ubyte.gz\n",
            "26421880/26421880 [==============================] - 0s 0us/step\n",
            "Downloading data from https://storage.googleapis.com/tensorflow/tf-keras-datasets/t10k-labels-idx1-ubyte.gz\n",
            "5148/5148 [==============================] - 0s 0us/step\n",
            "Downloading data from https://storage.googleapis.com/tensorflow/tf-keras-datasets/t10k-images-idx3-ubyte.gz\n",
            "4422102/4422102 [==============================] - 0s 0us/step\n"
          ]
        }
      ]
    },
    {
      "cell_type": "markdown",
      "source": [
        "load_data(): 네 개의 넘파이 배열이 반환\n",
        "* train_~: 모델 학습에 사용되는 훈련세트\n",
        "* test_~: 모델 테스트에 사용되는 훈련세트"
      ],
      "metadata": {
        "id": "NoaqZmKGOkB7"
      }
    },
    {
      "cell_type": "code",
      "source": [
        "# 이미지는 클래스 레이블에 매핑(이름 X)\n",
        "# 나중에 출력을 위해 별도의 변수 생성\n",
        "class_names = ['T-shirt/top', 'Trouser', 'Pullover', 'Dress', 'Coat',\n",
        "               'Sandal', 'Shirt', 'Sneaker', 'Bag', 'Ankle boot']"
      ],
      "metadata": {
        "id": "vm7ABRS_Ojai"
      },
      "execution_count": null,
      "outputs": []
    },
    {
      "cell_type": "markdown",
      "source": [
        "## 데이터 탐색\n",
        "모델 훈련 전 데이터셋 구조 파악"
      ],
      "metadata": {
        "id": "AHGcLQ5zPidD"
      }
    },
    {
      "cell_type": "code",
      "source": [
        "train_images.shape"
      ],
      "metadata": {
        "colab": {
          "base_uri": "https://localhost:8080/"
        },
        "id": "DYQYZ_U4Pp96",
        "outputId": "9443f930-b417-44eb-9be1-47c4cea38c70"
      },
      "execution_count": null,
      "outputs": [
        {
          "output_type": "execute_result",
          "data": {
            "text/plain": [
              "(60000, 28, 28)"
            ]
          },
          "metadata": {},
          "execution_count": 4
        }
      ]
    },
    {
      "cell_type": "markdown",
      "source": [
        "60000개의 이미지, 각 이미지는 28*28 픽셀"
      ],
      "metadata": {
        "id": "DlcevTldPukR"
      }
    },
    {
      "cell_type": "code",
      "source": [
        "len(train_labels)"
      ],
      "metadata": {
        "colab": {
          "base_uri": "https://localhost:8080/"
        },
        "id": "IimfGeutP3hf",
        "outputId": "60a2967c-e986-4d0c-f1fa-5f13854f4d5b"
      },
      "execution_count": null,
      "outputs": [
        {
          "output_type": "execute_result",
          "data": {
            "text/plain": [
              "60000"
            ]
          },
          "metadata": {},
          "execution_count": 5
        }
      ]
    },
    {
      "cell_type": "markdown",
      "source": [
        "훈련 세트에는 60000개의 레이블\n",
        "* .shape로 했을 때 나오는 항목의 첫 번째(이미지 개수)"
      ],
      "metadata": {
        "id": "JAzg9_rUP_51"
      }
    },
    {
      "cell_type": "code",
      "source": [
        "test_images.shape"
      ],
      "metadata": {
        "colab": {
          "base_uri": "https://localhost:8080/"
        },
        "id": "2KnckMXaQNfz",
        "outputId": "5deb481a-7bbb-45c6-9059-1537dbd3ed02"
      },
      "execution_count": null,
      "outputs": [
        {
          "output_type": "execute_result",
          "data": {
            "text/plain": [
              "(10000, 28, 28)"
            ]
          },
          "metadata": {},
          "execution_count": 6
        }
      ]
    },
    {
      "cell_type": "code",
      "source": [
        "test_labels.shape"
      ],
      "metadata": {
        "colab": {
          "base_uri": "https://localhost:8080/"
        },
        "id": "tlV1V8hTQWC9",
        "outputId": "3976389c-9767-4a2c-c073-5b8e3ab1f44b"
      },
      "execution_count": null,
      "outputs": [
        {
          "output_type": "execute_result",
          "data": {
            "text/plain": [
              "(10000,)"
            ]
          },
          "metadata": {},
          "execution_count": 7
        }
      ]
    },
    {
      "cell_type": "markdown",
      "source": [
        "## 데이터 전처리"
      ],
      "metadata": {
        "id": "rxhJz_klQpfm"
      }
    },
    {
      "cell_type": "code",
      "source": [
        "plt.figure()      # 하는 것과 안하는 것의 차이는 무엇일까\n",
        "plt.imshow(train_images[0])   # 화면에 이미지를 보여줌\n",
        "plt.colorbar()                # 컬러바 표시\n",
        "plt.grid(False)               # 표에 그리드 표시(기본값은 False)\n",
        "plt.show()"
      ],
      "metadata": {
        "colab": {
          "base_uri": "https://localhost:8080/",
          "height": 265
        },
        "id": "keY1NZaxQvef",
        "outputId": "3961c194-3184-4809-c1de-53d0029763ed"
      },
      "execution_count": null,
      "outputs": [
        {
          "output_type": "display_data",
          "data": {
            "text/plain": [
              "<Figure size 432x288 with 2 Axes>"
            ],
            "image/png": "[encoded data removed]"
          },
          "metadata": {
            "needs_background": "light"
          }
        }
      ]
    },
    {
      "cell_type": "code",
      "source": [
        "# 신경망 모델에 주입 전 범위 조정\n",
        "train_images = train_images / 255.0\n",
        "test_images = test_images / 255.0"
      ],
      "metadata": {
        "id": "tXoXXIOyS34u"
      },
      "execution_count": null,
      "outputs": []
    },
    {
      "cell_type": "markdown",
      "source": [
        "값의 범위를 0 ~ 1 사이로 조정<br/>\n",
        "훈련 세트와 테스트 세트를 동일한 방식으로 전처리 하는 것이 중요\n"
      ],
      "metadata": {
        "id": "iGm5BWdOTJ0C"
      }
    },
    {
      "cell_type": "code",
      "source": [
        "# 훈련세트에서 기본 이미지 출력\n",
        "plt.figure(figsize=(10, 10))\n",
        "\n",
        "for i in range(25):       # 총 25개의 이미지 출력\n",
        "    plt.subplot(5, 5, i + 1)\n",
        "    plt.xticks([])\n",
        "    plt.yticks([])\n",
        "    plt.grid(False)\n",
        "    plt.imshow(train_images[i], cmap=plt.cm.binary)\n",
        "    plt.xlabel(class_names[train_labels[i]])\n",
        "plt.show()"
      ],
      "metadata": {
        "colab": {
          "base_uri": "https://localhost:8080/",
          "height": 589
        },
        "id": "lErdY7N_TYt6",
        "outputId": "ff50826e-6391-4871-cb3a-d9ee3e053a35"
      },
      "execution_count": null,
      "outputs": [
        {
          "output_type": "display_data",
          "data": {
            "text/plain": [
              "<Figure size 720x720 with 25 Axes>"
            ],
            "image/png": "[encoded data removed]"
          },
          "metadata": {}
        }
      ]
    },
    {
      "cell_type": "markdown",
      "source": [
        "## 모델 구성\n",
        "모델의 층을 쌓은 뒤 모델을 컴파일"
      ],
      "metadata": {
        "id": "PnjcuimkulzZ"
      }
    },
    {
      "cell_type": "code",
      "source": [
        "# 모델의 레이어 쌓기\n",
        "model = tf.keras.Sequential([\n",
        "    tf.keras.layers.Flatten(input_shape=(28, 28)),    # 데이터 변환\n",
        "    tf.keras.layers.Dense(128, activation=\"relu\"),    # 128개의 노드\n",
        "    tf.keras.layers.Dense(10)                         # 10개의 노드, 소프트맥스 층\n",
        "])"
      ],
      "metadata": {
        "id": "qp7OAa4Ol0FW"
      },
      "execution_count": null,
      "outputs": []
    },
    {
      "cell_type": "markdown",
      "source": [
        "tf.keras.layers.Flatten\n",
        "* 2차원 배열(28*28)의 이미지 포멧을 28 * 28 = 784 픽셀의 1차원 배열로 변환\n",
        "* 해당 층에서는 학습되는 가중치는 없음\n",
        "\n",
        "tf.keras.layers.Dense\n",
        "* "
      ],
      "metadata": {
        "id": "7uunNXRpw9ge"
      }
    },
    {
      "cell_type": "code",
      "source": [
        "# 모델 컴파일\n",
        "model.compile(optimizer='adam', \n",
        "              loss=tf.keras.losses.SparseCategoricalCrossentropy(from_logits=True),\n",
        "              metrics=['accuracy'])"
      ],
      "metadata": {
        "id": "zGC6by3H-Tq-"
      },
      "execution_count": null,
      "outputs": []
    },
    {
      "cell_type": "markdown",
      "source": [
        "## 모델 훈련\n",
        "1. 훈련 데이터를 모델에 주입\n",
        "2. ..."
      ],
      "metadata": {
        "id": "IT16YbZAkx-_"
      }
    },
    {
      "cell_type": "code",
      "source": [
        "# 훈련 시작\n",
        "model.fit(train_images, train_labels, epochs=10)"
      ],
      "metadata": {
        "colab": {
          "base_uri": "https://localhost:8080/"
        },
        "id": "Z2kPJ15uk-4T",
        "outputId": "a15bc21d-abe3-4752-888b-4c9f33f4d9a4"
      },
      "execution_count": null,
      "outputs": [
        {
          "output_type": "stream",
          "name": "stdout",
          "text": [
            "Epoch 1/10\n",
            "1875/1875 [==============================] - 18s 9ms/step - loss: 0.4941 - accuracy: 0.8262\n",
            "Epoch 2/10\n",
            "1875/1875 [==============================] - 6s 3ms/step - loss: 0.3744 - accuracy: 0.8660\n",
            "Epoch 3/10\n",
            "1875/1875 [==============================] - 4s 2ms/step - loss: 0.3368 - accuracy: 0.8783\n",
            "Epoch 4/10\n",
            "1875/1875 [==============================] - 4s 2ms/step - loss: 0.3139 - accuracy: 0.8854\n",
            "Epoch 5/10\n",
            "1875/1875 [==============================] - 4s 2ms/step - loss: 0.2953 - accuracy: 0.8917\n",
            "Epoch 6/10\n",
            "1875/1875 [==============================] - 4s 2ms/step - loss: 0.2804 - accuracy: 0.8964\n",
            "Epoch 7/10\n",
            "1875/1875 [==============================] - 4s 2ms/step - loss: 0.2658 - accuracy: 0.9014\n",
            "Epoch 8/10\n",
            "1875/1875 [==============================] - 4s 2ms/step - loss: 0.2551 - accuracy: 0.9046\n",
            "Epoch 9/10\n",
            "1875/1875 [==============================] - 4s 2ms/step - loss: 0.2461 - accuracy: 0.9091\n",
            "Epoch 10/10\n",
            "1875/1875 [==============================] - 4s 2ms/step - loss: 0.2384 - accuracy: 0.9111\n"
          ]
        },
        {
          "output_type": "execute_result",
          "data": {
            "text/plain": [
              "<keras.callbacks.History at 0x7f7e2ce805e0>"
            ]
          },
          "metadata": {},
          "execution_count": 13
        }
      ]
    },
    {
      "cell_type": "code",
      "source": [
        "# 정확도 평가\n",
        "test_loss, test_acc = model.evaluate(test_images, test_labels, verbose=2)\n",
        "print(\"Test Accuracy: \", test_acc, \"\\nTest Loss: \", test_loss)"
      ],
      "metadata": {
        "colab": {
          "base_uri": "https://localhost:8080/"
        },
        "id": "KnGBIE3OlFBT",
        "outputId": "5ed8f166-cf1f-49fd-dc3f-5ab85ab3d7f2"
      },
      "execution_count": null,
      "outputs": [
        {
          "output_type": "stream",
          "name": "stdout",
          "text": [
            "313/313 - 1s - loss: 0.3445 - accuracy: 0.8819 - 529ms/epoch - 2ms/step\n",
            "Test Accuracy:  0.8819000124931335 \n",
            "Test Loss:  0.34445661306381226\n"
          ]
        }
      ]
    },
    {
      "cell_type": "markdown",
      "source": [
        "테스트 세트의 정확도가 훈련 세트의 정확도보다 조금 낮음\n",
        "\n",
        "머신러닝 모델이 훈련 데이터보다 새로운 데이터에서 성능이 낮아지기 때문(과대적합)"
      ],
      "metadata": {
        "id": "1SY7YMHPnarS"
      }
    },
    {
      "cell_type": "code",
      "source": [
        "# 예측하기\n",
        "probability_model = tf.keras.Sequential([\n",
        "    model,                      # 만든 모델을\n",
        "    tf.keras.layers.Softmax()   # 확률로 반환\n",
        "])\n",
        "\n",
        "predictions = probability_model.predict(test_images)    # 예측"
      ],
      "metadata": {
        "colab": {
          "base_uri": "https://localhost:8080/"
        },
        "id": "Mao_dF5Gnz1I",
        "outputId": "5d82e6d7-df91-44a3-d958-8927158571bc"
      },
      "execution_count": null,
      "outputs": [
        {
          "output_type": "stream",
          "name": "stdout",
          "text": [
            "313/313 [==============================] - 1s 1ms/step\n"
          ]
        }
      ]
    },
    {
      "cell_type": "code",
      "source": [
        "# 예측 확인\n",
        "predictions[0]    # 0번째 항목의 예측 결과"
      ],
      "metadata": {
        "colab": {
          "base_uri": "https://localhost:8080/"
        },
        "id": "dxdtdTwDsaez",
        "outputId": "444b7ebf-be03-4e73-9d68-e9a02658e664"
      },
      "execution_count": null,
      "outputs": [
        {
          "output_type": "execute_result",
          "data": {
            "text/plain": [
              "array([3.5095740e-09, 1.0018551e-13, 1.2614648e-11, 2.0352116e-12,\n",
              "       1.4177709e-10, 1.2325637e-04, 1.2739057e-10, 1.3504157e-02,\n",
              "       2.4439065e-10, 9.8637259e-01], dtype=float32)"
            ]
          },
          "metadata": {},
          "execution_count": 16
        }
      ]
    },
    {
      "cell_type": "markdown",
      "source": [
        "10개의 숫자 배열로 출력됨\n",
        "\n",
        "각 옷 품목(10개)에 상응하는 모델의 신뢰도를 나타냄"
      ],
      "metadata": {
        "id": "sn2u04_psyuV"
      }
    },
    {
      "cell_type": "code",
      "source": [
        "np.argmax(predictions[0])"
      ],
      "metadata": {
        "colab": {
          "base_uri": "https://localhost:8080/"
        },
        "id": "PCin3VijtEb9",
        "outputId": "cbee1f9d-a4fc-4bc9-ccfa-711405fce352"
      },
      "execution_count": null,
      "outputs": [
        {
          "output_type": "execute_result",
          "data": {
            "text/plain": [
              "9"
            ]
          },
          "metadata": {},
          "execution_count": 17
        }
      ]
    },
    {
      "cell_type": "markdown",
      "source": [
        "모델은 이 이미지가 앵클 부츠라고 확신하는 중"
      ],
      "metadata": {
        "id": "cuY6w49UuYpk"
      }
    },
    {
      "cell_type": "code",
      "source": [
        "# 실제 레이블 값 확인\n",
        "test_labels[0]"
      ],
      "metadata": {
        "colab": {
          "base_uri": "https://localhost:8080/"
        },
        "id": "7ER-ebMQueiQ",
        "outputId": "05fefa71-329d-480a-83c5-50f28300cf85"
      },
      "execution_count": null,
      "outputs": [
        {
          "output_type": "execute_result",
          "data": {
            "text/plain": [
              "9"
            ]
          },
          "metadata": {},
          "execution_count": 18
        }
      ]
    },
    {
      "cell_type": "markdown",
      "source": [
        "0번째 사진은 앵클 부츠가 맞다!"
      ],
      "metadata": {
        "id": "bOEKR0Ekv6WB"
      }
    },
    {
      "cell_type": "markdown",
      "source": [
        "### 예측을 그래프로 표현"
      ],
      "metadata": {
        "id": "Byoh_erHwh6d"
      }
    },
    {
      "cell_type": "code",
      "source": [
        "def plot_image(i, predictions_array, true_label, img):  # 매개변수: 몇 번쨰 사진, 클래스별 확률, 전체 항목의 레이블, 전체 항목의 이미지\n",
        "  true_label, img = true_label[i], img[i]     # 인덱스 i의 실제 레이블과 이미지를 변수로 받음\n",
        "  plt.grid(False)\n",
        "  plt.xticks([])\n",
        "  plt.yticks([])\n",
        "\n",
        "  plt.imshow(img, cmap=plt.cm.binary)\n",
        "\n",
        "  predicted_label = np.argmax(predictions_array)    # 예측한 배열에서 가장 큰 값\n",
        "\n",
        "  if (predictions_array == true_label):\n",
        "    color = \"blue\"\n",
        "  else:\n",
        "    color = \"red\"\n",
        "\n",
        "  # for i in range(10):\n",
        "  #   print(\" \", predictions_array[i])\n",
        "\n",
        "  plt.xlabel(\"{} {:2.0f}% ({})\" .format(class_names[predicted_label], \n",
        "                                        100 * np.max(predictions_array), \n",
        "                                        class_names[true_label],\n",
        "                                        color=color))\n",
        "  \n",
        "def plot_value_array(i, predictions_array, true_label):\n",
        "  true_label = true_label[i]\n",
        "  plt.grid(False)\n",
        "  plt.xticks(range(10))   # x축 출력 (클래스 0~9)\n",
        "  plt.yticks([])\n",
        "  thisplot = plt.bar(range(10), predictions_array, color=\"#777777\")\n",
        "  plt.ylim([0, 1])    # y축의 스케일\n",
        "  predicted_label = np.argmax(predictions_array)\n",
        "\n",
        "  thisplot[predicted_label].set_color(\"red\")\n",
        "  thisplot[true_label]"
      ],
      "metadata": {
        "id": "8_V8Wx07v57H"
      },
      "execution_count": null,
      "outputs": []
    },
    {
      "cell_type": "code",
      "source": [
        "# 예측 확인 >> 이상함, 코드 수정할것\n",
        "i = 0\n",
        "plt.figure(figsize=(6, 3))\n",
        "plt.subplot(1, 2, 1)\n",
        "plot_image(i, predictions[i].all(), test_labels, test_images)   # a.any(), a.all()\n",
        "plt.subplot(1, 2, 2)\n",
        "plot_value_array(i, predictions[i], test_labels)\n",
        "plt.show()      # 왜 색이 반대로 나오냐ㅋㅋ"
      ],
      "metadata": {
        "colab": {
          "base_uri": "https://localhost:8080/",
          "height": 211
        },
        "id": "bms6Ztx68fPw",
        "outputId": "d4ccae62-3f1c-4453-c0aa-3390e4fdf48b"
      },
      "execution_count": null,
      "outputs": [
        {
          "output_type": "display_data",
          "data": {
            "text/plain": [
              "<Figure size 432x216 with 2 Axes>"
            ],
            "image/png": "[encoded data removed]"
          },
          "metadata": {
            "needs_background": "light"
          }
        }
      ]
    },
    {
      "cell_type": "markdown",
      "source": [
        "색이 반대로 나오는 문제?\n"
      ],
      "metadata": {
        "id": "6KXZQZuu_rhF"
      }
    },
    {
      "cell_type": "code",
      "source": [
        "i = 12\n",
        "plt.figure(figsize=(6, 3))\n",
        "plt.subplot(1, 2, 1)\n",
        "plot_image(i, predictions[i].all(), test_labels, test_images)   # a.any(), a.all()\n",
        "plt.subplot(1, 2, 2)\n",
        "plot_value_array(i, predictions[i], test_labels)\n",
        "plt.show()      # 왜 색이 반대로 나오냐ㅋㅋ"
      ],
      "metadata": {
        "colab": {
          "base_uri": "https://localhost:8080/",
          "height": 211
        },
        "id": "IUMcxKINF5Zn",
        "outputId": "7f62e6b8-589d-4250-80e4-21e8c8501831"
      },
      "execution_count": null,
      "outputs": [
        {
          "output_type": "display_data",
          "data": {
            "text/plain": [
              "<Figure size 432x216 with 2 Axes>"
            ],
            "image/png": "[encoded data removed]"
          },
          "metadata": {
            "needs_background": "light"
          }
        }
      ]
    },
    {
      "cell_type": "markdown",
      "source": [
        "개판인데? 수정사항\n",
        "* 바그래프의 색\n",
        "* 왼쪽 그래프의 라벨 오류"
      ],
      "metadata": {
        "id": "BUmjIzdbGoho"
      }
    },
    {
      "cell_type": "code",
      "source": [
        "# 여러 이미지의 예측 출력 >> 결과 개판\n",
        "num_rows = 5\n",
        "num_cols = 3\n",
        "num_images = num_rows * num_cols\n",
        "\n",
        "plt.figure(figsize=(2 * 2 * num_cols, 2 * num_rows))\n",
        "\n",
        "for i in range(num_images):\n",
        "  plt.subplot(num_rows, 2 * num_cols, 2 * i + 1)\n",
        "  plot_image(i, predictions[i].all(), test_labels, test_images)\n",
        "  plt.subplot(num_rows, 2*num_cols, 2*i+2)\n",
        "  plot_value_array(i, predictions[i], test_labels)\n",
        "plt.tight_layout()\n",
        "plt.show()"
      ],
      "metadata": {
        "colab": {
          "base_uri": "https://localhost:8080/",
          "height": 729
        },
        "id": "vBg5rtYMG5uI",
        "outputId": "f41acf1b-c218-443c-c8cd-fbd4afda9fb2"
      },
      "execution_count": null,
      "outputs": [
        {
          "output_type": "display_data",
          "data": {
            "text/plain": [
              "<Figure size 864x720 with 30 Axes>"
            ],
            "image/png": "[encoded data removed]"
          },
          "metadata": {
            "needs_background": "light"
          }
        }
      ]
    },
    {
      "cell_type": "markdown",
      "source": [
        "plt.figure\n",
        "* figsize(float, float): 가로, 세로 크기(단위: 인치). 기본값: (6.4, 4.8)"
      ],
      "metadata": {
        "id": "9Hk8IzSfIJnt"
      }
    },
    {
      "cell_type": "markdown",
      "source": [
        "## 훈련된 모델 사용하기"
      ],
      "metadata": {
        "id": "rnumYTsANUfZ"
      }
    },
    {
      "cell_type": "code",
      "source": [
        "# 테스트 할 하나의 이미지\n",
        "img = test_images[1]\n",
        "print(img.shape)"
      ],
      "metadata": {
        "colab": {
          "base_uri": "https://localhost:8080/"
        },
        "id": "86R7uH8DMbua",
        "outputId": "eb84d6b3-23a5-45e8-82cd-76323e074486"
      },
      "execution_count": null,
      "outputs": [
        {
          "output_type": "stream",
          "name": "stdout",
          "text": [
            "(28, 28)\n"
          ]
        }
      ]
    },
    {
      "cell_type": "code",
      "source": [
        "# 테스트 할 이미지를 확인\n",
        "plt.figure()\n",
        "plt.imshow(img)\n",
        "plt.show()"
      ],
      "metadata": {
        "colab": {
          "base_uri": "https://localhost:8080/",
          "height": 265
        },
        "id": "qtWSU6FJNtjf",
        "outputId": "dba35790-b72f-44c4-89de-bbb157aa7dd0"
      },
      "execution_count": null,
      "outputs": [
        {
          "output_type": "display_data",
          "data": {
            "text/plain": [
              "<Figure size 432x288 with 1 Axes>"
            ],
            "image/png": "[encoded data removed]"
          },
          "metadata": {
            "needs_background": "light"
          }
        }
      ]
    },
    {
      "cell_type": "code",
      "source": [
        "# 흔련 이미지 동일하게 테스트 이미지 변경\n",
        "img = (np.expand_dims(img, 0))\n",
        "\n",
        "print(img.shape)"
      ],
      "metadata": {
        "colab": {
          "base_uri": "https://localhost:8080/"
        },
        "id": "VVoMS_HTOU8r",
        "outputId": "b3f4d4a6-5bad-4a69-b3c2-be6dfda780d5"
      },
      "execution_count": null,
      "outputs": [
        {
          "output_type": "stream",
          "name": "stdout",
          "text": [
            "(1, 28, 28)\n"
          ]
        }
      ]
    },
    {
      "cell_type": "markdown",
      "source": [
        "* 출력값의 0번째 인덱스: 개수\n",
        "* 1, 2번째 인덱스: 사이즈"
      ],
      "metadata": {
        "id": "kd2KC9EFQN4K"
      }
    },
    {
      "cell_type": "code",
      "source": [
        "# 이미지 에측\n",
        "predictions_single = probability_model.predict(img)   # 해당 이미지에 대한 예측\n",
        "\n",
        "print(predictions_single)"
      ],
      "metadata": {
        "colab": {
          "base_uri": "https://localhost:8080/"
        },
        "id": "1xf8LkHsRboY",
        "outputId": "ede2b20d-2dc6-4d4a-8150-59ecae8e24cd"
      },
      "execution_count": null,
      "outputs": [
        {
          "output_type": "stream",
          "name": "stdout",
          "text": [
            "1/1 [==============================] - 0s 24ms/step\n",
            "[[2.8142219e-06 9.3795863e-17 9.9953079e-01 4.7388465e-11 3.8981609e-04\n",
            "  1.7322476e-14 7.6605698e-05 2.1306919e-15 1.9101604e-13 3.1310151e-15]]\n"
          ]
        }
      ]
    },
    {
      "cell_type": "code",
      "source": [
        "plot_value_array(1, predictions_single[0], test_labels)\n",
        "_ = plt.xticks(range(10), class_names, rotation=45)\n",
        "plt.show()"
      ],
      "metadata": {
        "colab": {
          "base_uri": "https://localhost:8080/",
          "height": 300
        },
        "id": "yXp-yZftVLOk",
        "outputId": "7f344219-aee6-45c8-a6c3-408bc119bd31"
      },
      "execution_count": null,
      "outputs": [
        {
          "output_type": "display_data",
          "data": {
            "text/plain": [
              "<Figure size 432x288 with 1 Axes>"
            ],
            "image/png": "[encoded data removed]"
          },
          "metadata": {
            "needs_background": "light"
          }
        }
      ]
    },
    {
      "cell_type": "markdown",
      "source": [
        "predictions_single은 2차원 배열\n",
        "* predictions_single[0]에 각 클래스별 확률(배열)\n",
        "* predictions_single[1] 이상의 값은 없는 거 같음"
      ],
      "metadata": {
        "id": "HYZwLLfbdBHb"
      }
    },
    {
      "cell_type": "code",
      "source": [
        "np.argmax(predictions_single[0])"
      ],
      "metadata": {
        "colab": {
          "base_uri": "https://localhost:8080/"
        },
        "id": "ZsP4NjMxbSUT",
        "outputId": "e146b4d9-c7c9-46d5-a677-0f713159273d"
      },
      "execution_count": null,
      "outputs": [
        {
          "output_type": "execute_result",
          "data": {
            "text/plain": [
              "2"
            ]
          },
          "metadata": {},
          "execution_count": 28
        }
      ]
    }
  ]
}